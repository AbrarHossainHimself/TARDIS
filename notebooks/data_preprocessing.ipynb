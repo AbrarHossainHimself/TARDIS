{
 "cells": [
  {
   "cell_type": "code",
   "execution_count": 19,
   "metadata": {},
   "outputs": [],
   "source": [
    "import pandas as pd\n",
    "file_path = '/home/abrar/Desktop/Code/Temporal HPC/PM100/pm100_job _w_data_avg_power.csv'\n",
    "\n",
    "# Read the second sheet (index 1, since indexing starts at 0)\n",
    "df = pd.read_csv(file_path)\n",
    "\n",
    "# Now 'df' contains the data from the second sheet"
   ]
  },
  {
   "cell_type": "code",
   "execution_count": 1,
   "metadata": {},
   "outputs": [],
   "source": [
    "# from tabulate import tabulate\n",
    "\n",
    "# print(tabulate(df.head(5), headers='keys', tablefmt='psql'))\n",
    "# # print(tabulate(df_filtered.head(), headers='keys', tablefmt='psql'))"
   ]
  },
  {
   "cell_type": "code",
   "execution_count": null,
   "metadata": {},
   "outputs": [
    {
     "name": "stdout",
     "output_type": "stream",
     "text": [
      "<class 'pandas.core.frame.DataFrame'>\n",
      "RangeIndex: 231125 entries, 0 to 231124\n",
      "Data columns (total 41 columns):\n",
      " #   Column                  Non-Null Count   Dtype  \n",
      "---  ------                  --------------   -----  \n",
      " 0   cores_alloc_layout      231125 non-null  object \n",
      " 1   cores_allocated         231125 non-null  object \n",
      " 2   cores_per_task          231125 non-null  int64  \n",
      " 3   derived_ec              231125 non-null  object \n",
      " 4   eligible_time           231125 non-null  object \n",
      " 5   end_time                231125 non-null  object \n",
      " 6   group_id                231125 non-null  int64  \n",
      " 7   job_id                  231125 non-null  int64  \n",
      " 8   job_state               231125 non-null  object \n",
      " 9   nodes                   231125 non-null  object \n",
      " 10  num_cores_req           231125 non-null  int64  \n",
      " 11  num_cores_alloc         231125 non-null  int64  \n",
      " 12  num_nodes_req           231125 non-null  int64  \n",
      " 13  num_nodes_alloc         231125 non-null  int64  \n",
      " 14  num_tasks               221675 non-null  float64\n",
      " 15  partition               231125 non-null  int64  \n",
      " 16  priority                231125 non-null  int64  \n",
      " 17  qos                     231125 non-null  int64  \n",
      " 18  req_nodes               26294 non-null   object \n",
      " 19  req_switch              231125 non-null  int64  \n",
      " 20  run_time                231125 non-null  int64  \n",
      " 21  shared                  231125 non-null  object \n",
      " 22  start_time              231125 non-null  object \n",
      " 23  state_reason            39704 non-null   object \n",
      " 24  submit_time             231125 non-null  object \n",
      " 25  threads_per_core        904 non-null     float64\n",
      " 26  time_limit              231125 non-null  int64  \n",
      " 27  num_gpus_req            231125 non-null  int64  \n",
      " 28  num_gpus_alloc          231125 non-null  int64  \n",
      " 29  mem_req                 231125 non-null  int64  \n",
      " 30  mem_alloc               231125 non-null  int64  \n",
      " 31  user_id                 231125 non-null  int64  \n",
      " 32  node_power_consumption  231125 non-null  object \n",
      " 33  mem_power_consumption   231125 non-null  object \n",
      " 34  cpu_power_consumption   231125 non-null  object \n",
      " 35  node_power_list         231125 non-null  object \n",
      " 36  cpu_power_list          231125 non-null  object \n",
      " 37  mem_power_list          231125 non-null  object \n",
      " 38  mean_node_power         231125 non-null  float64\n",
      " 39  mean_cpu_power          228259 non-null  float64\n",
      " 40  mean_mem_power          228259 non-null  float64\n",
      "dtypes: float64(5), int64(18), object(18)\n",
      "memory usage: 72.3+ MB\n"
     ]
    }
   ],
   "source": [
    "# df.info()"
   ]
  },
  {
   "cell_type": "code",
   "execution_count": 9,
   "metadata": {},
   "outputs": [],
   "source": [
    "# Removing outliers\n",
    "import pandas as pd\n",
    "import numpy as np\n",
    "from sklearn.cluster import DBSCAN\n",
    "from sklearn.ensemble import IsolationForest\n",
    "from sklearn.preprocessing import StandardScaler\n",
    "\n",
    "def remove_outliers_iqr(df, columns, threshold=1.5):\n",
    "    \"\"\"Removes outliers based on the IQR method.\"\"\"\n",
    "    df_out = df.copy()\n",
    "    for col in columns:\n",
    "        Q1 = df_out[col].quantile(0.25)\n",
    "        Q3 = df_out[col].quantile(0.75)\n",
    "        IQR = Q3 - Q1\n",
    "        lower_bound = Q1 - threshold * IQR\n",
    "        upper_bound = Q3 + threshold * IQR\n",
    "        df_out = df_out[(df_out[col] >= lower_bound) & (df_out[col] <= upper_bound)]\n",
    "    return df_out\n",
    "\n",
    "def remove_outliers_zscore(df, columns, threshold=3):\n",
    "    \"\"\"Removes outliers based on the Z-score method.\"\"\"\n",
    "    df_out = df.copy()\n",
    "    for col in columns:\n",
    "        z_scores = np.abs((df_out[col] - df_out[col].mean()) / df_out[col].std())\n",
    "        df_out = df_out[z_scores < threshold]\n",
    "    return df_out\n",
    "\n",
    "def remove_outliers_modified_zscore(df, columns, threshold=3.5):\n",
    "    \"\"\"Removes outliers based on the modified Z-score method.\"\"\"\n",
    "    df_out = df.copy()\n",
    "    for col in columns:\n",
    "        med = df_out[col].median()\n",
    "        mad = np.median(np.abs(df_out[col] - med))\n",
    "        modified_z_scores = np.abs(0.6745 * (df_out[col] - med) / mad)\n",
    "        df_out = df_out[modified_z_scores < threshold]\n",
    "    return df_out\n",
    "\n",
    "def remove_outliers_dbscan(df, columns, eps=0.5, min_samples=5):\n",
    "    \"\"\"Removes outliers based on the DBSCAN algorithm.\"\"\"\n",
    "    df_out = df.copy()\n",
    "    X = df_out[columns]\n",
    "    \n",
    "    # Scale the data - important for distance-based methods like DBSCAN\n",
    "    scaler = StandardScaler()\n",
    "    X_scaled = scaler.fit_transform(X)\n",
    "\n",
    "    dbscan = DBSCAN(eps=eps, min_samples=min_samples)\n",
    "    clusters = dbscan.fit_predict(X_scaled)\n",
    "\n",
    "    # Identify outliers (data points labeled as -1)\n",
    "    df_out['outlier'] = clusters\n",
    "    df_out = df_out[df_out['outlier'] != -1]\n",
    "    df_out.drop('outlier', axis=1, inplace=True)\n",
    "\n",
    "    return df_out\n",
    "\n",
    "def remove_outliers_isolation_forest(df, columns, contamination=0.01):\n",
    "    \"\"\"Removes outliers based on the Isolation Forest algorithm.\"\"\"\n",
    "    df_out = df.copy()\n",
    "    X = df_out[columns]\n",
    "\n",
    "    # Isolation Forest works well with scaled data but can handle unscaled data\n",
    "    scaler = StandardScaler()\n",
    "    X_scaled = scaler.fit_transform(X)\n",
    "    \n",
    "    iso_forest = IsolationForest(contamination=contamination, random_state=42)\n",
    "    outliers = iso_forest.fit_predict(X_scaled)\n",
    "\n",
    "    # Identify outliers (data points labeled as -1)\n",
    "    df_out['outlier'] = outliers\n",
    "    df_out = df_out[df_out['outlier'] != -1]\n",
    "    df_out.drop('outlier', axis=1, inplace=True)\n",
    "\n",
    "    return df_out"
   ]
  },
  {
   "cell_type": "code",
   "execution_count": 12,
   "metadata": {},
   "outputs": [
    {
     "name": "stdout",
     "output_type": "stream",
     "text": [
      "Original DataFrame shape: (231125, 41)\n",
      "DataFrame shape after outlier removal (IQR): (196567, 41)\n"
     ]
    }
   ],
   "source": [
    "# Example usage:\n",
    "runtime_cols = ['run_time'] # , 'mean_cpu_power', 'mean_mem_power'\n",
    "\n",
    "# Choose one method:\n",
    "df_no_run_time_outliers_iqr = remove_outliers_iqr(df, runtime_cols)\n",
    "# df_no_outliers_zscore = remove_outliers_zscore(df, power_cols)\n",
    "# df_no_outliers_mod_zscore = remove_outliers_modified_zscore(df, power_cols)\n",
    "# df_no_outliers_dbscan = remove_outliers_dbscan(df, power_cols, eps=3, min_samples=10) # Tune eps and min_samples\n",
    "# df_no_outliers_iso_forest = remove_outliers_isolation_forest(df, power_cols, contamination=0.02) # Tune contamination\n",
    "\n",
    "# Now use df_no_outliers... for GNN training\n",
    "\n",
    "print(f\"Original DataFrame shape: {df.shape}\")\n",
    "print(f\"DataFrame shape after outlier removal (IQR): {df_no_run_time_outliers_iqr.shape}\")\n",
    "# print(f\"DataFrame shape after outlier removal (Z-score): {df_no_outliers_zscore.shape}\")\n",
    "# print(f\"DataFrame shape after outlier removal (Mod Z-score): {df_no_outliers_mod_zscore.shape}\")\n",
    "# print(f\"DataFrame shape after outlier removal (DBSCAN): {df_no_outliers_dbscan.shape}\")\n",
    "# print(f\"DataFrame shape after outlier removal (Isolation Forest): {df_no_outliers_iso_forest.shape}\")"
   ]
  },
  {
   "cell_type": "code",
   "execution_count": 13,
   "metadata": {},
   "outputs": [
    {
     "name": "stdout",
     "output_type": "stream",
     "text": [
      "Original DataFrame shape: (231125, 41)\n",
      "DataFrame shape after outlier removal (IQR): (163308, 41)\n"
     ]
    }
   ],
   "source": [
    "# Example usage:\n",
    "power_cols = ['mean_node_power'] # , 'mean_cpu_power', 'mean_mem_power'\n",
    "\n",
    "# Choose one method:\n",
    "df_no_node_power_run_time_outliers_iqr = remove_outliers_iqr(df_no_run_time_outliers_iqr, power_cols)\n",
    "# df_no_outliers_zscore = remove_outliers_zscore(df, power_cols)\n",
    "# df_no_outliers_mod_zscore = remove_outliers_modified_zscore(df, power_cols)\n",
    "# df_no_outliers_dbscan = remove_outliers_dbscan(df, power_cols, eps=3, min_samples=10) # Tune eps and min_samples\n",
    "# df_no_outliers_iso_forest = remove_outliers_isolation_forest(df, power_cols, contamination=0.02) # Tune contamination\n",
    "\n",
    "# Now use df_no_outliers... for GNN training\n",
    "\n",
    "print(f\"Original DataFrame shape: {df.shape}\")\n",
    "print(f\"DataFrame shape after outlier removal (IQR): {df_no_node_power_run_time_outliers_iqr.shape}\")\n",
    "# print(f\"DataFrame shape after outlier removal (Z-score): {df_no_outliers_zscore.shape}\")\n",
    "# print(f\"DataFrame shape after outlier removal (Mod Z-score): {df_no_outliers_mod_zscore.shape}\")\n",
    "# print(f\"DataFrame shape after outlier removal (DBSCAN): {df_no_outliers_dbscan.shape}\")\n",
    "# print(f\"DataFrame shape after outlier removal (Isolation Forest): {df_no_outliers_iso_forest.shape}\")"
   ]
  },
  {
   "cell_type": "code",
   "execution_count": 17,
   "metadata": {},
   "outputs": [
    {
     "data": {
      "image/png": "[encoded data removed]",
      "text/plain": [
       "<Figure size 640x480 with 1 Axes>"
      ]
     },
     "metadata": {},
     "output_type": "display_data"
    }
   ],
   "source": [
    "import matplotlib.pyplot as plt\n",
    "\n",
    "df_no_node_power_run_time_outliers_iqr['run_time'].plot.hist(bins=50)\n",
    "plt.title('Distribution of Mean Node Power')\n",
    "plt.xlabel('Mean Node Power')\n",
    "plt.ylabel('Frequency')\n",
    "plt.show()"
   ]
  },
  {
   "cell_type": "code",
   "execution_count": 16,
   "metadata": {},
   "outputs": [
    {
     "name": "stdout",
     "output_type": "stream",
     "text": [
      "       cores_per_task       group_id        job_id  num_cores_req  \\\n",
      "count   163308.000000  163308.000000  1.633080e+05  163308.000000   \n",
      "mean        15.667334   25215.294211  3.122049e+06      85.796244   \n",
      "std         17.585923     736.085993  1.801799e+06      88.926227   \n",
      "min          1.000000     915.000000  1.200000e+01       1.000000   \n",
      "25%          1.000000   25200.000000  1.561397e+06      16.000000   \n",
      "50%          8.000000   25200.000000  3.116770e+06      64.000000   \n",
      "75%         32.000000   25200.000000  4.685758e+06     128.000000   \n",
      "max        128.000000   53925.000000  6.242697e+06   12800.000000   \n",
      "\n",
      "       num_cores_alloc  num_nodes_req  num_nodes_alloc      num_tasks  \\\n",
      "count    163308.000000  163308.000000    163308.000000  158404.000000   \n",
      "mean        105.424107       1.157763         1.158602      11.608943   \n",
      "std         108.874514       0.744013         0.745080      21.962067   \n",
      "min           4.000000       1.000000         1.000000       0.000000   \n",
      "25%          32.000000       1.000000         1.000000       4.000000   \n",
      "50%         128.000000       1.000000         1.000000       4.000000   \n",
      "75%         128.000000       1.000000         1.000000       8.000000   \n",
      "max       20736.000000     162.000000       162.000000     648.000000   \n",
      "\n",
      "           partition      priority  ...  threads_per_core     time_limit  \\\n",
      "count  163308.000000  1.633080e+05  ...        834.000000  163308.000000   \n",
      "mean        0.993656  1.891936e+05  ...          1.058753     678.389822   \n",
      "std         0.095949  9.425293e+04  ...          0.404241     645.034830   \n",
      "min         0.000000  0.000000e+00  ...          1.000000       1.000000   \n",
      "25%         1.000000  9.374700e+04  ...          1.000000      30.000000   \n",
      "50%         1.000000  1.938640e+05  ...          1.000000     420.000000   \n",
      "75%         1.000000  2.718678e+05  ...          1.000000    1440.000000   \n",
      "max         2.000000  1.306973e+06  ...          4.000000    1440.000000   \n",
      "\n",
      "        num_gpus_req  num_gpus_alloc        mem_req      mem_alloc  \\\n",
      "count  163308.000000   163308.000000  163308.000000  163308.000000   \n",
      "mean        3.736743        4.031548     174.686421     206.951962   \n",
      "std         3.044664        3.288533     162.806205     195.321281   \n",
      "min         0.000000        0.000000       0.000000       0.000000   \n",
      "25%         4.000000        4.000000      59.000000     118.000000   \n",
      "50%         4.000000        4.000000     224.000000     237.000000   \n",
      "75%         4.000000        4.000000     237.000000     237.000000   \n",
      "max       648.000000      648.000000   23000.000000   38475.000000   \n",
      "\n",
      "             user_id  mean_node_power  mean_cpu_power  mean_mem_power  \n",
      "count  163308.000000    163308.000000   160860.000000   160860.000000  \n",
      "mean      615.180934       815.591022      130.561418       43.731572  \n",
      "std       583.022001       343.693846      110.564320       26.148601  \n",
      "min         3.000000        20.000000       10.000000       28.000000  \n",
      "25%        80.000000       550.000000       76.000000       36.000000  \n",
      "50%       473.000000       720.000000       98.000000       36.800000  \n",
      "75%      1127.000000       920.000000      152.000000       39.625000  \n",
      "max      1743.000000      2270.789474    21683.333333     5848.000000  \n",
      "\n",
      "[8 rows x 23 columns]\n"
     ]
    }
   ],
   "source": [
    "print(df_no_node_power_run_time_outliers_iqr.describe())"
   ]
  },
  {
   "cell_type": "code",
   "execution_count": 159,
   "metadata": {},
   "outputs": [],
   "source": [
    "df = df_no_node_power_run_time_outliers_iqr"
   ]
  },
  {
   "cell_type": "code",
   "execution_count": 160,
   "metadata": {},
   "outputs": [
    {
     "name": "stderr",
     "output_type": "stream",
     "text": [
      "/tmp/ipykernel_22695/1726974308.py:3: SettingWithCopyWarning: \n",
      "A value is trying to be set on a copy of a slice from a DataFrame.\n",
      "Try using .loc[row_indexer,col_indexer] = value instead\n",
      "\n",
      "See the caveats in the documentation: https://pandas.pydata.org/pandas-docs/stable/user_guide/indexing.html#returning-a-view-versus-a-copy\n",
      "  df['shared'] = df['shared'].replace('OK', '1')\n",
      "/tmp/ipykernel_22695/1726974308.py:4: SettingWithCopyWarning: \n",
      "A value is trying to be set on a copy of a slice from a DataFrame.\n",
      "Try using .loc[row_indexer,col_indexer] = value instead\n",
      "\n",
      "See the caveats in the documentation: https://pandas.pydata.org/pandas-docs/stable/user_guide/indexing.html#returning-a-view-versus-a-copy\n",
      "  df['shared'] = df['shared'].astype(int)\n"
     ]
    }
   ],
   "source": [
    "# cleaning shared column\n",
    "df = df[df['shared'] != 'USER']\n",
    "df['shared'] = df['shared'].replace('OK', '1')\n",
    "df['shared'] = df['shared'].astype(int)"
   ]
  },
  {
   "cell_type": "code",
   "execution_count": 161,
   "metadata": {},
   "outputs": [],
   "source": [
    "# cleaning parition column\n",
    "df = df[df['partition'] != 2]\n",
    "# df['partition'] = df['shared'].replace('OK', '1')\n",
    "df['partition'] = df['partition'].astype(int)"
   ]
  },
  {
   "cell_type": "code",
   "execution_count": 162,
   "metadata": {},
   "outputs": [],
   "source": [
    "# swapping columns: parition and priority\n",
    "col_swap = {'partition': 'priority', 'priority': 'partition'}\n",
    "df = df.rename(columns=col_swap)"
   ]
  },
  {
   "cell_type": "code",
   "execution_count": 163,
   "metadata": {},
   "outputs": [],
   "source": [
    "# # cleaning state reason column\n",
    "df['state_reason'] = df['state_reason'].fillna('No reason')"
   ]
  },
  {
   "cell_type": "code",
   "execution_count": 164,
   "metadata": {},
   "outputs": [
    {
     "name": "stdout",
     "output_type": "stream",
     "text": [
      "num_tasks\n",
      "4.0      92651\n",
      "32.0     24448\n",
      "8.0      23626\n",
      "1.0      14875\n",
      "16.0      9456\n",
      "24.0      6002\n",
      "0.0       2494\n",
      "3.0       2352\n",
      "128.0     2328\n",
      "2.0       2213\n",
      "64.0      1938\n",
      "12.0       987\n",
      "192.0      653\n",
      "256.0      401\n",
      "96.0       156\n",
      "80.0       113\n",
      "6.0        100\n",
      "9.0         47\n",
      "36.0        33\n",
      "384.0       30\n",
      "5.0         29\n",
      "18.0        26\n",
      "30.0        19\n",
      "40.0        18\n",
      "20.0        18\n",
      "160.0       16\n",
      "512.0       14\n",
      "7.0         12\n",
      "48.0        11\n",
      "60.0         8\n",
      "10.0         8\n",
      "28.0         4\n",
      "72.0         3\n",
      "120.0        3\n",
      "31.0         3\n",
      "56.0         2\n",
      "29.0         2\n",
      "34.0         1\n",
      "54.0         1\n",
      "648.0        1\n",
      "400.0        1\n",
      "144.0        1\n",
      "100.0        1\n",
      "180.0        1\n",
      "90.0         1\n",
      "84.0         1\n",
      "14.0         1\n",
      "Name: count, dtype: int64\n"
     ]
    }
   ],
   "source": [
    "print(df['num_tasks'].value_counts())"
   ]
  },
  {
   "cell_type": "code",
   "execution_count": 165,
   "metadata": {},
   "outputs": [
    {
     "data": {
      "text/plain": [
       "np.int64(6206)"
      ]
     },
     "execution_count": 165,
     "metadata": {},
     "output_type": "execute_result"
    }
   ],
   "source": [
    "df['num_tasks'].isnull().sum()"
   ]
  },
  {
   "cell_type": "code",
   "execution_count": 166,
   "metadata": {},
   "outputs": [],
   "source": [
    "# # filtered_df = df[df['state_reason'] == 'TimeLimit']\n",
    "# filtered_df = df[df['state_reason'].isna()]\n",
    "# print(filtered_df)"
   ]
  },
  {
   "cell_type": "code",
   "execution_count": 167,
   "metadata": {},
   "outputs": [],
   "source": [
    "# print(filtered_df['job_state'].value_counts())"
   ]
  },
  {
   "cell_type": "code",
   "execution_count": 168,
   "metadata": {},
   "outputs": [
    {
     "data": {
      "text/plain": [
       "Index(['cores_alloc_layout', 'cores_allocated', 'cores_per_task', 'derived_ec',\n",
       "       'eligible_time', 'end_time', 'group_id', 'job_id', 'job_state', 'nodes',\n",
       "       'num_cores_req', 'num_cores_alloc', 'num_nodes_req', 'num_nodes_alloc',\n",
       "       'num_tasks', 'priority', 'partition', 'qos', 'req_nodes', 'req_switch',\n",
       "       'run_time', 'shared', 'start_time', 'state_reason', 'submit_time',\n",
       "       'threads_per_core', 'time_limit', 'num_gpus_req', 'num_gpus_alloc',\n",
       "       'mem_req', 'mem_alloc', 'user_id', 'node_power_consumption',\n",
       "       'mem_power_consumption', 'cpu_power_consumption', 'node_power_list',\n",
       "       'cpu_power_list', 'mem_power_list', 'mean_node_power', 'mean_cpu_power',\n",
       "       'mean_mem_power'],\n",
       "      dtype='object')"
      ]
     },
     "execution_count": 168,
     "metadata": {},
     "output_type": "execute_result"
    }
   ],
   "source": [
    "df.columns"
   ]
  },
  {
   "cell_type": "code",
   "execution_count": 169,
   "metadata": {},
   "outputs": [],
   "source": [
    "# Columns to keep\n",
    "columns_to_keep = [\n",
    "    'job_id', 'job_state', 'submit_time', 'eligible_time', 'start_time', 'end_time', 'run_time',\n",
    "    'cores_per_task', 'shared', 'partition', 'priority','num_tasks', 'state_reason',\n",
    "    'num_cores_alloc', 'num_nodes_alloc', 'num_gpus_alloc', 'mem_alloc', \n",
    "    'mean_node_power', 'mean_cpu_power', 'mean_mem_power'\n",
    "]\n",
    "\n",
    "# Subset the dataset\n",
    "subset_df = df[columns_to_keep]\n",
    "\n",
    "# # Save the subset dataset as a new file (optional)\n",
    "# output_path = '/mnt/data/subset_dataset.csv'\n",
    "# subset_df.to_csv(output_path, index=False)"
   ]
  },
  {
   "cell_type": "code",
   "execution_count": 170,
   "metadata": {},
   "outputs": [
    {
     "name": "stderr",
     "output_type": "stream",
     "text": [
      "/tmp/ipykernel_22695/3602614397.py:6: SettingWithCopyWarning: \n",
      "A value is trying to be set on a copy of a slice from a DataFrame.\n",
      "Try using .loc[row_indexer,col_indexer] = value instead\n",
      "\n",
      "See the caveats in the documentation: https://pandas.pydata.org/pandas-docs/stable/user_guide/indexing.html#returning-a-view-versus-a-copy\n",
      "  subset_df[columns_to_impute] = subset_df[columns_to_impute].fillna(subset_df[columns_to_impute].mean())\n"
     ]
    }
   ],
   "source": [
    "# Replace NaN values in the specified columns with the mean\n",
    "columns_to_impute = ['mean_cpu_power', 'mean_mem_power', 'num_tasks']\n",
    "\n",
    "# Perform mean imputation\n",
    "if 'subset_df' in locals():  # Check if the DataFrame is loaded\n",
    "    subset_df[columns_to_impute] = subset_df[columns_to_impute].fillna(subset_df[columns_to_impute].mean())\n"
   ]
  },
  {
   "cell_type": "code",
   "execution_count": 171,
   "metadata": {},
   "outputs": [
    {
     "name": "stderr",
     "output_type": "stream",
     "text": [
      "/tmp/ipykernel_22695/2911699287.py:4: SettingWithCopyWarning: \n",
      "A value is trying to be set on a copy of a slice from a DataFrame.\n",
      "Try using .loc[row_indexer,col_indexer] = value instead\n",
      "\n",
      "See the caveats in the documentation: https://pandas.pydata.org/pandas-docs/stable/user_guide/indexing.html#returning-a-view-versus-a-copy\n",
      "  subset_df[col] = pd.to_datetime(subset_df[col])\n",
      "/tmp/ipykernel_22695/2911699287.py:4: SettingWithCopyWarning: \n",
      "A value is trying to be set on a copy of a slice from a DataFrame.\n",
      "Try using .loc[row_indexer,col_indexer] = value instead\n",
      "\n",
      "See the caveats in the documentation: https://pandas.pydata.org/pandas-docs/stable/user_guide/indexing.html#returning-a-view-versus-a-copy\n",
      "  subset_df[col] = pd.to_datetime(subset_df[col])\n",
      "/tmp/ipykernel_22695/2911699287.py:4: SettingWithCopyWarning: \n",
      "A value is trying to be set on a copy of a slice from a DataFrame.\n",
      "Try using .loc[row_indexer,col_indexer] = value instead\n",
      "\n",
      "See the caveats in the documentation: https://pandas.pydata.org/pandas-docs/stable/user_guide/indexing.html#returning-a-view-versus-a-copy\n",
      "  subset_df[col] = pd.to_datetime(subset_df[col])\n",
      "/tmp/ipykernel_22695/2911699287.py:4: SettingWithCopyWarning: \n",
      "A value is trying to be set on a copy of a slice from a DataFrame.\n",
      "Try using .loc[row_indexer,col_indexer] = value instead\n",
      "\n",
      "See the caveats in the documentation: https://pandas.pydata.org/pandas-docs/stable/user_guide/indexing.html#returning-a-view-versus-a-copy\n",
      "  subset_df[col] = pd.to_datetime(subset_df[col])\n"
     ]
    }
   ],
   "source": [
    "# Convert time columns to datetime\n",
    "time_columns = ['submit_time', 'eligible_time', 'start_time', 'end_time']\n",
    "for col in time_columns:\n",
    "    subset_df[col] = pd.to_datetime(subset_df[col])"
   ]
  },
  {
   "cell_type": "code",
   "execution_count": 172,
   "metadata": {},
   "outputs": [],
   "source": [
    "# Sort the DataFrame by the 'submit_time' column\n",
    "subset_df = subset_df.sort_values('submit_time')"
   ]
  },
  {
   "cell_type": "code",
   "execution_count": 173,
   "metadata": {},
   "outputs": [],
   "source": [
    "# Sequentially assign job IDs\n",
    "subset_df['job_id'] = range(1, len(subset_df) + 1)"
   ]
  },
  {
   "cell_type": "code",
   "execution_count": 174,
   "metadata": {},
   "outputs": [],
   "source": [
    "# subset_df['mean_cpu_power'].isnull().sum()"
   ]
  },
  {
   "cell_type": "code",
   "execution_count": 175,
   "metadata": {},
   "outputs": [
    {
     "name": "stdout",
     "output_type": "stream",
     "text": [
      "<class 'pandas.core.frame.DataFrame'>\n",
      "Index: 191315 entries, 18460 to 218499\n",
      "Data columns (total 20 columns):\n",
      " #   Column           Non-Null Count   Dtype              \n",
      "---  ------           --------------   -----              \n",
      " 0   job_id           191315 non-null  int64              \n",
      " 1   job_state        191315 non-null  object             \n",
      " 2   submit_time      191315 non-null  datetime64[ns, UTC]\n",
      " 3   eligible_time    191315 non-null  datetime64[ns, UTC]\n",
      " 4   start_time       191315 non-null  datetime64[ns, UTC]\n",
      " 5   end_time         191315 non-null  datetime64[ns, UTC]\n",
      " 6   run_time         191315 non-null  int64              \n",
      " 7   cores_per_task   191315 non-null  int64              \n",
      " 8   shared           191315 non-null  int64              \n",
      " 9   partition        191315 non-null  int64              \n",
      " 10  priority         191315 non-null  int64              \n",
      " 11  num_tasks        191315 non-null  float64            \n",
      " 12  state_reason     191315 non-null  object             \n",
      " 13  num_cores_alloc  191315 non-null  int64              \n",
      " 14  num_nodes_alloc  191315 non-null  int64              \n",
      " 15  num_gpus_alloc   191315 non-null  int64              \n",
      " 16  mem_alloc        191315 non-null  int64              \n",
      " 17  mean_node_power  191315 non-null  float64            \n",
      " 18  mean_cpu_power   191315 non-null  float64            \n",
      " 19  mean_mem_power   191315 non-null  float64            \n",
      "dtypes: datetime64[ns, UTC](4), float64(4), int64(10), object(2)\n",
      "memory usage: 30.7+ MB\n"
     ]
    }
   ],
   "source": [
    "subset_df.info()"
   ]
  },
  {
   "cell_type": "code",
   "execution_count": 176,
   "metadata": {},
   "outputs": [
    {
     "name": "stdout",
     "output_type": "stream",
     "text": [
      "+-------+----------+-------------+---------------------------+---------------------------+---------------------------+---------------------------+------------+------------------+----------+-------------+------------+-------------+----------------+-------------------+-------------------+------------------+-------------+-------------------+------------------+------------------+\n",
      "|       |   job_id | job_state   | submit_time               | eligible_time             | start_time                | end_time                  |   run_time |   cores_per_task |   shared |   partition |   priority |   num_tasks | state_reason   |   num_cores_alloc |   num_nodes_alloc |   num_gpus_alloc |   mem_alloc |   mean_node_power |   mean_cpu_power |   mean_mem_power |\n",
      "|-------+----------+-------------+---------------------------+---------------------------+---------------------------+---------------------------+------------+------------------+----------+-------------+------------+-------------+----------------+-------------------+-------------------+------------------+-------------+-------------------+------------------+------------------|\n",
      "| 18460 |        1 | TIMEOUT     | 2020-05-05 15:55:59+00:00 | 2020-05-05 15:55:59+00:00 | 2020-05-05 15:56:00+00:00 | 2020-05-06 15:56:07+00:00 |      86407 |               32 |        1 |      329756 |          1 |     12.8527 | TimeLimit      |               128 |                 1 |                4 |         237 |          1206.61  |         222.947  |          39.1526 |\n",
      "| 18462 |        2 | TIMEOUT     | 2020-05-05 16:01:00+00:00 | 2020-05-05 16:01:00+00:00 | 2020-05-05 16:01:00+00:00 | 2020-05-06 16:01:07+00:00 |      86407 |               32 |        1 |      329756 |          1 |     12.8527 | TimeLimit      |               128 |                 1 |                4 |         237 |          1240.65  |         273.697  |          37.9874 |\n",
      "| 18461 |        3 | TIMEOUT     | 2020-05-05 16:21:46+00:00 | 2020-05-05 16:21:46+00:00 | 2020-05-05 16:21:47+00:00 | 2020-05-06 16:22:07+00:00 |      86420 |               32 |        1 |      329691 |          1 |     12.8527 | TimeLimit      |               128 |                 1 |                4 |         237 |          1102.06  |         224.689  |          37.6083 |\n",
      "| 18459 |        4 | TIMEOUT     | 2020-05-05 20:53:46+00:00 | 2020-05-05 20:53:46+00:00 | 2020-05-05 20:53:46+00:00 | 2020-05-06 19:54:12+00:00 |      82826 |                1 |        1 |      328318 |          1 |     12.8527 | TimeLimit      |                32 |                 4 |               16 |         898 |          2241.57  |         304.519  |         127.147  |\n",
      "|  8412 |        5 | COMPLETED   | 2020-05-06 06:41:32+00:00 | 2020-05-06 06:41:32+00:00 | 2020-05-06 06:41:51+00:00 | 2020-05-06 10:22:34+00:00 |      13243 |                4 |        1 |      327135 |          1 |     12.8527 | No reason      |                 4 |                 1 |                4 |          64 |           875.917 |          73.9308 |          36.7614 |\n",
      "+-------+----------+-------------+---------------------------+---------------------------+---------------------------+---------------------------+------------+------------------+----------+-------------+------------+-------------+----------------+-------------------+-------------------+------------------+-------------+-------------------+------------------+------------------+\n"
     ]
    }
   ],
   "source": [
    "from tabulate import tabulate\n",
    "\n",
    "print(tabulate(subset_df.head(5), headers='keys', tablefmt='psql'))\n",
    "# print(tabulate(df_filtered.head(), headers='keys', tablefmt='psql'))"
   ]
  },
  {
   "cell_type": "code",
   "execution_count": 177,
   "metadata": {},
   "outputs": [],
   "source": [
    "subset_df['wait_time'] = (subset_df['end_time'] - subset_df['start_time']).dt.total_seconds()\n",
    "# subset_df = subset_df['wait_time'].dt.total_seconds()"
   ]
  },
  {
   "cell_type": "code",
   "execution_count": 178,
   "metadata": {},
   "outputs": [
    {
     "data": {
      "text/html": [
       "<div>\n",
       "<style scoped>\n",
       "    .dataframe tbody tr th:only-of-type {\n",
       "        vertical-align: middle;\n",
       "    }\n",
       "\n",
       "    .dataframe tbody tr th {\n",
       "        vertical-align: top;\n",
       "    }\n",
       "\n",
       "    .dataframe thead th {\n",
       "        text-align: right;\n",
       "    }\n",
       "</style>\n",
       "<table border=\"1\" class=\"dataframe\">\n",
       "  <thead>\n",
       "    <tr style=\"text-align: right;\">\n",
       "      <th></th>\n",
       "      <th>job_id</th>\n",
       "      <th>job_state</th>\n",
       "      <th>submit_time</th>\n",
       "      <th>eligible_time</th>\n",
       "      <th>start_time</th>\n",
       "      <th>end_time</th>\n",
       "      <th>run_time</th>\n",
       "      <th>cores_per_task</th>\n",
       "      <th>shared</th>\n",
       "      <th>partition</th>\n",
       "      <th>...</th>\n",
       "      <th>num_tasks</th>\n",
       "      <th>state_reason</th>\n",
       "      <th>num_cores_alloc</th>\n",
       "      <th>num_nodes_alloc</th>\n",
       "      <th>num_gpus_alloc</th>\n",
       "      <th>mem_alloc</th>\n",
       "      <th>mean_node_power</th>\n",
       "      <th>mean_cpu_power</th>\n",
       "      <th>mean_mem_power</th>\n",
       "      <th>wait_time</th>\n",
       "    </tr>\n",
       "  </thead>\n",
       "  <tbody>\n",
       "    <tr>\n",
       "      <th>18460</th>\n",
       "      <td>1</td>\n",
       "      <td>TIMEOUT</td>\n",
       "      <td>2020-05-05 15:55:59+00:00</td>\n",
       "      <td>2020-05-05 15:55:59+00:00</td>\n",
       "      <td>2020-05-05 15:56:00+00:00</td>\n",
       "      <td>2020-05-06 15:56:07+00:00</td>\n",
       "      <td>86407</td>\n",
       "      <td>32</td>\n",
       "      <td>1</td>\n",
       "      <td>329756</td>\n",
       "      <td>...</td>\n",
       "      <td>12.852698</td>\n",
       "      <td>TimeLimit</td>\n",
       "      <td>128</td>\n",
       "      <td>1</td>\n",
       "      <td>4</td>\n",
       "      <td>237</td>\n",
       "      <td>1206.606862</td>\n",
       "      <td>222.946608</td>\n",
       "      <td>39.152638</td>\n",
       "      <td>86407.0</td>\n",
       "    </tr>\n",
       "    <tr>\n",
       "      <th>18462</th>\n",
       "      <td>2</td>\n",
       "      <td>TIMEOUT</td>\n",
       "      <td>2020-05-05 16:01:00+00:00</td>\n",
       "      <td>2020-05-05 16:01:00+00:00</td>\n",
       "      <td>2020-05-05 16:01:00+00:00</td>\n",
       "      <td>2020-05-06 16:01:07+00:00</td>\n",
       "      <td>86407</td>\n",
       "      <td>32</td>\n",
       "      <td>1</td>\n",
       "      <td>329756</td>\n",
       "      <td>...</td>\n",
       "      <td>12.852698</td>\n",
       "      <td>TimeLimit</td>\n",
       "      <td>128</td>\n",
       "      <td>1</td>\n",
       "      <td>4</td>\n",
       "      <td>237</td>\n",
       "      <td>1240.646884</td>\n",
       "      <td>273.697368</td>\n",
       "      <td>37.987440</td>\n",
       "      <td>86407.0</td>\n",
       "    </tr>\n",
       "    <tr>\n",
       "      <th>18461</th>\n",
       "      <td>3</td>\n",
       "      <td>TIMEOUT</td>\n",
       "      <td>2020-05-05 16:21:46+00:00</td>\n",
       "      <td>2020-05-05 16:21:46+00:00</td>\n",
       "      <td>2020-05-05 16:21:47+00:00</td>\n",
       "      <td>2020-05-06 16:22:07+00:00</td>\n",
       "      <td>86420</td>\n",
       "      <td>32</td>\n",
       "      <td>1</td>\n",
       "      <td>329691</td>\n",
       "      <td>...</td>\n",
       "      <td>12.852698</td>\n",
       "      <td>TimeLimit</td>\n",
       "      <td>128</td>\n",
       "      <td>1</td>\n",
       "      <td>4</td>\n",
       "      <td>237</td>\n",
       "      <td>1102.062371</td>\n",
       "      <td>224.689121</td>\n",
       "      <td>37.608346</td>\n",
       "      <td>86420.0</td>\n",
       "    </tr>\n",
       "    <tr>\n",
       "      <th>18459</th>\n",
       "      <td>4</td>\n",
       "      <td>TIMEOUT</td>\n",
       "      <td>2020-05-05 20:53:46+00:00</td>\n",
       "      <td>2020-05-05 20:53:46+00:00</td>\n",
       "      <td>2020-05-05 20:53:46+00:00</td>\n",
       "      <td>2020-05-06 19:54:12+00:00</td>\n",
       "      <td>82826</td>\n",
       "      <td>1</td>\n",
       "      <td>1</td>\n",
       "      <td>328318</td>\n",
       "      <td>...</td>\n",
       "      <td>12.852698</td>\n",
       "      <td>TimeLimit</td>\n",
       "      <td>32</td>\n",
       "      <td>4</td>\n",
       "      <td>16</td>\n",
       "      <td>898</td>\n",
       "      <td>2241.573820</td>\n",
       "      <td>304.519221</td>\n",
       "      <td>127.146780</td>\n",
       "      <td>82826.0</td>\n",
       "    </tr>\n",
       "    <tr>\n",
       "      <th>8412</th>\n",
       "      <td>5</td>\n",
       "      <td>COMPLETED</td>\n",
       "      <td>2020-05-06 06:41:32+00:00</td>\n",
       "      <td>2020-05-06 06:41:32+00:00</td>\n",
       "      <td>2020-05-06 06:41:51+00:00</td>\n",
       "      <td>2020-05-06 10:22:34+00:00</td>\n",
       "      <td>13243</td>\n",
       "      <td>4</td>\n",
       "      <td>1</td>\n",
       "      <td>327135</td>\n",
       "      <td>...</td>\n",
       "      <td>12.852698</td>\n",
       "      <td>No reason</td>\n",
       "      <td>4</td>\n",
       "      <td>1</td>\n",
       "      <td>4</td>\n",
       "      <td>64</td>\n",
       "      <td>875.916955</td>\n",
       "      <td>73.930783</td>\n",
       "      <td>36.761384</td>\n",
       "      <td>13243.0</td>\n",
       "    </tr>\n",
       "    <tr>\n",
       "      <th>...</th>\n",
       "      <td>...</td>\n",
       "      <td>...</td>\n",
       "      <td>...</td>\n",
       "      <td>...</td>\n",
       "      <td>...</td>\n",
       "      <td>...</td>\n",
       "      <td>...</td>\n",
       "      <td>...</td>\n",
       "      <td>...</td>\n",
       "      <td>...</td>\n",
       "      <td>...</td>\n",
       "      <td>...</td>\n",
       "      <td>...</td>\n",
       "      <td>...</td>\n",
       "      <td>...</td>\n",
       "      <td>...</td>\n",
       "      <td>...</td>\n",
       "      <td>...</td>\n",
       "      <td>...</td>\n",
       "      <td>...</td>\n",
       "      <td>...</td>\n",
       "    </tr>\n",
       "    <tr>\n",
       "      <th>218482</th>\n",
       "      <td>191311</td>\n",
       "      <td>COMPLETED</td>\n",
       "      <td>2020-10-12 23:32:58+00:00</td>\n",
       "      <td>2020-10-12 23:32:58+00:00</td>\n",
       "      <td>2020-10-12 23:35:00+00:00</td>\n",
       "      <td>2020-10-12 23:35:02+00:00</td>\n",
       "      <td>2</td>\n",
       "      <td>1</td>\n",
       "      <td>1</td>\n",
       "      <td>167166</td>\n",
       "      <td>...</td>\n",
       "      <td>16.000000</td>\n",
       "      <td>No reason</td>\n",
       "      <td>16</td>\n",
       "      <td>4</td>\n",
       "      <td>16</td>\n",
       "      <td>29</td>\n",
       "      <td>2120.000000</td>\n",
       "      <td>228.000000</td>\n",
       "      <td>146.000000</td>\n",
       "      <td>2.0</td>\n",
       "    </tr>\n",
       "    <tr>\n",
       "      <th>218507</th>\n",
       "      <td>191312</td>\n",
       "      <td>FAILED</td>\n",
       "      <td>2020-10-12 23:34:45+00:00</td>\n",
       "      <td>2020-10-12 23:34:45+00:00</td>\n",
       "      <td>2020-10-12 23:34:59+00:00</td>\n",
       "      <td>2020-10-12 23:35:14+00:00</td>\n",
       "      <td>15</td>\n",
       "      <td>1</td>\n",
       "      <td>1</td>\n",
       "      <td>194728</td>\n",
       "      <td>...</td>\n",
       "      <td>1.000000</td>\n",
       "      <td>NonZeroExitCode</td>\n",
       "      <td>4</td>\n",
       "      <td>1</td>\n",
       "      <td>1</td>\n",
       "      <td>29</td>\n",
       "      <td>580.000000</td>\n",
       "      <td>94.000000</td>\n",
       "      <td>36.000000</td>\n",
       "      <td>15.0</td>\n",
       "    </tr>\n",
       "    <tr>\n",
       "      <th>218497</th>\n",
       "      <td>191313</td>\n",
       "      <td>COMPLETED</td>\n",
       "      <td>2020-10-12 23:43:15+00:00</td>\n",
       "      <td>2020-10-12 23:43:15+00:00</td>\n",
       "      <td>2020-10-12 23:45:13+00:00</td>\n",
       "      <td>2020-10-12 23:45:31+00:00</td>\n",
       "      <td>18</td>\n",
       "      <td>1</td>\n",
       "      <td>1</td>\n",
       "      <td>194451</td>\n",
       "      <td>...</td>\n",
       "      <td>1.000000</td>\n",
       "      <td>No reason</td>\n",
       "      <td>4</td>\n",
       "      <td>1</td>\n",
       "      <td>1</td>\n",
       "      <td>29</td>\n",
       "      <td>570.000000</td>\n",
       "      <td>92.000000</td>\n",
       "      <td>38.000000</td>\n",
       "      <td>18.0</td>\n",
       "    </tr>\n",
       "    <tr>\n",
       "      <th>218501</th>\n",
       "      <td>191314</td>\n",
       "      <td>COMPLETED</td>\n",
       "      <td>2020-10-12 23:47:17+00:00</td>\n",
       "      <td>2020-10-12 23:47:17+00:00</td>\n",
       "      <td>2020-10-12 23:49:19+00:00</td>\n",
       "      <td>2020-10-12 23:49:21+00:00</td>\n",
       "      <td>2</td>\n",
       "      <td>1</td>\n",
       "      <td>1</td>\n",
       "      <td>167185</td>\n",
       "      <td>...</td>\n",
       "      <td>16.000000</td>\n",
       "      <td>No reason</td>\n",
       "      <td>16</td>\n",
       "      <td>4</td>\n",
       "      <td>16</td>\n",
       "      <td>29</td>\n",
       "      <td>2130.000000</td>\n",
       "      <td>228.000000</td>\n",
       "      <td>144.000000</td>\n",
       "      <td>2.0</td>\n",
       "    </tr>\n",
       "    <tr>\n",
       "      <th>218499</th>\n",
       "      <td>191315</td>\n",
       "      <td>COMPLETED</td>\n",
       "      <td>2020-10-12 23:50:26+00:00</td>\n",
       "      <td>2020-10-12 23:50:26+00:00</td>\n",
       "      <td>2020-10-12 23:51:21+00:00</td>\n",
       "      <td>2020-10-12 23:51:40+00:00</td>\n",
       "      <td>19</td>\n",
       "      <td>1</td>\n",
       "      <td>1</td>\n",
       "      <td>194308</td>\n",
       "      <td>...</td>\n",
       "      <td>1.000000</td>\n",
       "      <td>No reason</td>\n",
       "      <td>4</td>\n",
       "      <td>1</td>\n",
       "      <td>1</td>\n",
       "      <td>29</td>\n",
       "      <td>540.000000</td>\n",
       "      <td>56.000000</td>\n",
       "      <td>36.000000</td>\n",
       "      <td>19.0</td>\n",
       "    </tr>\n",
       "  </tbody>\n",
       "</table>\n",
       "<p>191315 rows × 21 columns</p>\n",
       "</div>"
      ],
      "text/plain": [
       "        job_id  job_state               submit_time             eligible_time  \\\n",
       "18460        1    TIMEOUT 2020-05-05 15:55:59+00:00 2020-05-05 15:55:59+00:00   \n",
       "18462        2    TIMEOUT 2020-05-05 16:01:00+00:00 2020-05-05 16:01:00+00:00   \n",
       "18461        3    TIMEOUT 2020-05-05 16:21:46+00:00 2020-05-05 16:21:46+00:00   \n",
       "18459        4    TIMEOUT 2020-05-05 20:53:46+00:00 2020-05-05 20:53:46+00:00   \n",
       "8412         5  COMPLETED 2020-05-06 06:41:32+00:00 2020-05-06 06:41:32+00:00   \n",
       "...        ...        ...                       ...                       ...   \n",
       "218482  191311  COMPLETED 2020-10-12 23:32:58+00:00 2020-10-12 23:32:58+00:00   \n",
       "218507  191312     FAILED 2020-10-12 23:34:45+00:00 2020-10-12 23:34:45+00:00   \n",
       "218497  191313  COMPLETED 2020-10-12 23:43:15+00:00 2020-10-12 23:43:15+00:00   \n",
       "218501  191314  COMPLETED 2020-10-12 23:47:17+00:00 2020-10-12 23:47:17+00:00   \n",
       "218499  191315  COMPLETED 2020-10-12 23:50:26+00:00 2020-10-12 23:50:26+00:00   \n",
       "\n",
       "                      start_time                  end_time  run_time  \\\n",
       "18460  2020-05-05 15:56:00+00:00 2020-05-06 15:56:07+00:00     86407   \n",
       "18462  2020-05-05 16:01:00+00:00 2020-05-06 16:01:07+00:00     86407   \n",
       "18461  2020-05-05 16:21:47+00:00 2020-05-06 16:22:07+00:00     86420   \n",
       "18459  2020-05-05 20:53:46+00:00 2020-05-06 19:54:12+00:00     82826   \n",
       "8412   2020-05-06 06:41:51+00:00 2020-05-06 10:22:34+00:00     13243   \n",
       "...                          ...                       ...       ...   \n",
       "218482 2020-10-12 23:35:00+00:00 2020-10-12 23:35:02+00:00         2   \n",
       "218507 2020-10-12 23:34:59+00:00 2020-10-12 23:35:14+00:00        15   \n",
       "218497 2020-10-12 23:45:13+00:00 2020-10-12 23:45:31+00:00        18   \n",
       "218501 2020-10-12 23:49:19+00:00 2020-10-12 23:49:21+00:00         2   \n",
       "218499 2020-10-12 23:51:21+00:00 2020-10-12 23:51:40+00:00        19   \n",
       "\n",
       "        cores_per_task  shared  partition  ...  num_tasks     state_reason  \\\n",
       "18460               32       1     329756  ...  12.852698        TimeLimit   \n",
       "18462               32       1     329756  ...  12.852698        TimeLimit   \n",
       "18461               32       1     329691  ...  12.852698        TimeLimit   \n",
       "18459                1       1     328318  ...  12.852698        TimeLimit   \n",
       "8412                 4       1     327135  ...  12.852698        No reason   \n",
       "...                ...     ...        ...  ...        ...              ...   \n",
       "218482               1       1     167166  ...  16.000000        No reason   \n",
       "218507               1       1     194728  ...   1.000000  NonZeroExitCode   \n",
       "218497               1       1     194451  ...   1.000000        No reason   \n",
       "218501               1       1     167185  ...  16.000000        No reason   \n",
       "218499               1       1     194308  ...   1.000000        No reason   \n",
       "\n",
       "       num_cores_alloc  num_nodes_alloc  num_gpus_alloc  mem_alloc  \\\n",
       "18460              128                1               4        237   \n",
       "18462              128                1               4        237   \n",
       "18461              128                1               4        237   \n",
       "18459               32                4              16        898   \n",
       "8412                 4                1               4         64   \n",
       "...                ...              ...             ...        ...   \n",
       "218482              16                4              16         29   \n",
       "218507               4                1               1         29   \n",
       "218497               4                1               1         29   \n",
       "218501              16                4              16         29   \n",
       "218499               4                1               1         29   \n",
       "\n",
       "        mean_node_power  mean_cpu_power  mean_mem_power  wait_time  \n",
       "18460       1206.606862      222.946608       39.152638    86407.0  \n",
       "18462       1240.646884      273.697368       37.987440    86407.0  \n",
       "18461       1102.062371      224.689121       37.608346    86420.0  \n",
       "18459       2241.573820      304.519221      127.146780    82826.0  \n",
       "8412         875.916955       73.930783       36.761384    13243.0  \n",
       "...                 ...             ...             ...        ...  \n",
       "218482      2120.000000      228.000000      146.000000        2.0  \n",
       "218507       580.000000       94.000000       36.000000       15.0  \n",
       "218497       570.000000       92.000000       38.000000       18.0  \n",
       "218501      2130.000000      228.000000      144.000000        2.0  \n",
       "218499       540.000000       56.000000       36.000000       19.0  \n",
       "\n",
       "[191315 rows x 21 columns]"
      ]
     },
     "execution_count": 178,
     "metadata": {},
     "output_type": "execute_result"
    }
   ],
   "source": [
    "subset_df.dropna()"
   ]
  },
  {
   "cell_type": "code",
   "execution_count": 179,
   "metadata": {},
   "outputs": [],
   "source": [
    "# subset_df['job_id'].duplicated().sum()"
   ]
  },
  {
   "cell_type": "code",
   "execution_count": 180,
   "metadata": {},
   "outputs": [
    {
     "data": {
      "text/html": [
       "<div>\n",
       "<style scoped>\n",
       "    .dataframe tbody tr th:only-of-type {\n",
       "        vertical-align: middle;\n",
       "    }\n",
       "\n",
       "    .dataframe tbody tr th {\n",
       "        vertical-align: top;\n",
       "    }\n",
       "\n",
       "    .dataframe thead th {\n",
       "        text-align: right;\n",
       "    }\n",
       "</style>\n",
       "<table border=\"1\" class=\"dataframe\">\n",
       "  <thead>\n",
       "    <tr style=\"text-align: right;\">\n",
       "      <th></th>\n",
       "      <th>job_id</th>\n",
       "      <th>run_time</th>\n",
       "      <th>cores_per_task</th>\n",
       "      <th>shared</th>\n",
       "      <th>partition</th>\n",
       "      <th>priority</th>\n",
       "      <th>num_tasks</th>\n",
       "      <th>num_cores_alloc</th>\n",
       "      <th>num_nodes_alloc</th>\n",
       "      <th>num_gpus_alloc</th>\n",
       "      <th>mem_alloc</th>\n",
       "      <th>mean_node_power</th>\n",
       "      <th>mean_cpu_power</th>\n",
       "      <th>mean_mem_power</th>\n",
       "      <th>wait_time</th>\n",
       "    </tr>\n",
       "  </thead>\n",
       "  <tbody>\n",
       "    <tr>\n",
       "      <th>count</th>\n",
       "      <td>191315.000000</td>\n",
       "      <td>191315.000000</td>\n",
       "      <td>191315.000000</td>\n",
       "      <td>191315.000000</td>\n",
       "      <td>1.913150e+05</td>\n",
       "      <td>191315.000000</td>\n",
       "      <td>191315.000000</td>\n",
       "      <td>191315.000000</td>\n",
       "      <td>191315.000000</td>\n",
       "      <td>191315.000000</td>\n",
       "      <td>191315.000000</td>\n",
       "      <td>191315.000000</td>\n",
       "      <td>191315.000000</td>\n",
       "      <td>191315.000000</td>\n",
       "      <td>191315.000000</td>\n",
       "    </tr>\n",
       "    <tr>\n",
       "      <th>mean</th>\n",
       "      <td>95658.000000</td>\n",
       "      <td>5615.282686</td>\n",
       "      <td>15.597376</td>\n",
       "      <td>0.829517</td>\n",
       "      <td>1.864435e+05</td>\n",
       "      <td>0.992928</td>\n",
       "      <td>12.852698</td>\n",
       "      <td>107.315872</td>\n",
       "      <td>1.173761</td>\n",
       "      <td>4.127314</td>\n",
       "      <td>213.540993</td>\n",
       "      <td>841.263481</td>\n",
       "      <td>142.347877</td>\n",
       "      <td>44.559368</td>\n",
       "      <td>5615.282686</td>\n",
       "    </tr>\n",
       "    <tr>\n",
       "      <th>std</th>\n",
       "      <td>55228.027712</td>\n",
       "      <td>16328.279164</td>\n",
       "      <td>17.354117</td>\n",
       "      <td>0.376058</td>\n",
       "      <td>9.496610e+04</td>\n",
       "      <td>0.083798</td>\n",
       "      <td>24.143125</td>\n",
       "      <td>106.953631</td>\n",
       "      <td>0.732607</td>\n",
       "      <td>3.212431</td>\n",
       "      <td>190.284860</td>\n",
       "      <td>369.343803</td>\n",
       "      <td>118.132777</td>\n",
       "      <td>25.982101</td>\n",
       "      <td>16328.279164</td>\n",
       "    </tr>\n",
       "    <tr>\n",
       "      <th>min</th>\n",
       "      <td>1.000000</td>\n",
       "      <td>1.000000</td>\n",
       "      <td>1.000000</td>\n",
       "      <td>0.000000</td>\n",
       "      <td>0.000000e+00</td>\n",
       "      <td>0.000000</td>\n",
       "      <td>0.000000</td>\n",
       "      <td>4.000000</td>\n",
       "      <td>1.000000</td>\n",
       "      <td>0.000000</td>\n",
       "      <td>0.000000</td>\n",
       "      <td>20.000000</td>\n",
       "      <td>22.666667</td>\n",
       "      <td>28.000000</td>\n",
       "      <td>1.000000</td>\n",
       "    </tr>\n",
       "    <tr>\n",
       "      <th>25%</th>\n",
       "      <td>47829.500000</td>\n",
       "      <td>7.000000</td>\n",
       "      <td>1.000000</td>\n",
       "      <td>1.000000</td>\n",
       "      <td>9.286500e+04</td>\n",
       "      <td>1.000000</td>\n",
       "      <td>4.000000</td>\n",
       "      <td>32.000000</td>\n",
       "      <td>1.000000</td>\n",
       "      <td>4.000000</td>\n",
       "      <td>118.000000</td>\n",
       "      <td>560.000000</td>\n",
       "      <td>78.000000</td>\n",
       "      <td>36.000000</td>\n",
       "      <td>7.000000</td>\n",
       "    </tr>\n",
       "    <tr>\n",
       "      <th>50%</th>\n",
       "      <td>95658.000000</td>\n",
       "      <td>146.000000</td>\n",
       "      <td>8.000000</td>\n",
       "      <td>1.000000</td>\n",
       "      <td>1.866030e+05</td>\n",
       "      <td>1.000000</td>\n",
       "      <td>4.000000</td>\n",
       "      <td>128.000000</td>\n",
       "      <td>1.000000</td>\n",
       "      <td>4.000000</td>\n",
       "      <td>237.000000</td>\n",
       "      <td>740.000000</td>\n",
       "      <td>102.780488</td>\n",
       "      <td>37.157895</td>\n",
       "      <td>146.000000</td>\n",
       "    </tr>\n",
       "    <tr>\n",
       "      <th>75%</th>\n",
       "      <td>143486.500000</td>\n",
       "      <td>2032.000000</td>\n",
       "      <td>32.000000</td>\n",
       "      <td>1.000000</td>\n",
       "      <td>2.680450e+05</td>\n",
       "      <td>1.000000</td>\n",
       "      <td>12.852698</td>\n",
       "      <td>128.000000</td>\n",
       "      <td>1.000000</td>\n",
       "      <td>4.000000</td>\n",
       "      <td>237.000000</td>\n",
       "      <td>940.000000</td>\n",
       "      <td>174.011173</td>\n",
       "      <td>40.428571</td>\n",
       "      <td>2032.000000</td>\n",
       "    </tr>\n",
       "    <tr>\n",
       "      <th>max</th>\n",
       "      <td>191315.000000</td>\n",
       "      <td>125311.000000</td>\n",
       "      <td>128.000000</td>\n",
       "      <td>1.000000</td>\n",
       "      <td>1.306973e+06</td>\n",
       "      <td>1.000000</td>\n",
       "      <td>648.000000</td>\n",
       "      <td>20736.000000</td>\n",
       "      <td>162.000000</td>\n",
       "      <td>648.000000</td>\n",
       "      <td>38475.000000</td>\n",
       "      <td>2440.526316</td>\n",
       "      <td>21683.333333</td>\n",
       "      <td>5848.000000</td>\n",
       "      <td>125311.000000</td>\n",
       "    </tr>\n",
       "  </tbody>\n",
       "</table>\n",
       "</div>"
      ],
      "text/plain": [
       "              job_id       run_time  cores_per_task         shared  \\\n",
       "count  191315.000000  191315.000000   191315.000000  191315.000000   \n",
       "mean    95658.000000    5615.282686       15.597376       0.829517   \n",
       "std     55228.027712   16328.279164       17.354117       0.376058   \n",
       "min         1.000000       1.000000        1.000000       0.000000   \n",
       "25%     47829.500000       7.000000        1.000000       1.000000   \n",
       "50%     95658.000000     146.000000        8.000000       1.000000   \n",
       "75%    143486.500000    2032.000000       32.000000       1.000000   \n",
       "max    191315.000000  125311.000000      128.000000       1.000000   \n",
       "\n",
       "          partition       priority      num_tasks  num_cores_alloc  \\\n",
       "count  1.913150e+05  191315.000000  191315.000000    191315.000000   \n",
       "mean   1.864435e+05       0.992928      12.852698       107.315872   \n",
       "std    9.496610e+04       0.083798      24.143125       106.953631   \n",
       "min    0.000000e+00       0.000000       0.000000         4.000000   \n",
       "25%    9.286500e+04       1.000000       4.000000        32.000000   \n",
       "50%    1.866030e+05       1.000000       4.000000       128.000000   \n",
       "75%    2.680450e+05       1.000000      12.852698       128.000000   \n",
       "max    1.306973e+06       1.000000     648.000000     20736.000000   \n",
       "\n",
       "       num_nodes_alloc  num_gpus_alloc      mem_alloc  mean_node_power  \\\n",
       "count    191315.000000   191315.000000  191315.000000    191315.000000   \n",
       "mean          1.173761        4.127314     213.540993       841.263481   \n",
       "std           0.732607        3.212431     190.284860       369.343803   \n",
       "min           1.000000        0.000000       0.000000        20.000000   \n",
       "25%           1.000000        4.000000     118.000000       560.000000   \n",
       "50%           1.000000        4.000000     237.000000       740.000000   \n",
       "75%           1.000000        4.000000     237.000000       940.000000   \n",
       "max         162.000000      648.000000   38475.000000      2440.526316   \n",
       "\n",
       "       mean_cpu_power  mean_mem_power      wait_time  \n",
       "count   191315.000000   191315.000000  191315.000000  \n",
       "mean       142.347877       44.559368    5615.282686  \n",
       "std        118.132777       25.982101   16328.279164  \n",
       "min         22.666667       28.000000       1.000000  \n",
       "25%         78.000000       36.000000       7.000000  \n",
       "50%        102.780488       37.157895     146.000000  \n",
       "75%        174.011173       40.428571    2032.000000  \n",
       "max      21683.333333     5848.000000  125311.000000  "
      ]
     },
     "execution_count": 180,
     "metadata": {},
     "output_type": "execute_result"
    }
   ],
   "source": [
    "subset_df.describe()"
   ]
  },
  {
   "cell_type": "code",
   "execution_count": 181,
   "metadata": {},
   "outputs": [],
   "source": [
    "# subset_df.columns\n",
    "subset_df = subset_df[['job_id', 'job_state', 'submit_time', 'eligible_time', 'start_time',\n",
    "       'end_time', 'run_time', 'wait_time','cores_per_task', 'shared', 'partition',\n",
    "       'priority', 'num_tasks', 'state_reason', 'num_cores_alloc',\n",
    "       'num_nodes_alloc', 'num_gpus_alloc', 'mem_alloc', 'mean_node_power',\n",
    "       'mean_cpu_power', 'mean_mem_power']]"
   ]
  },
  {
   "cell_type": "code",
   "execution_count": 182,
   "metadata": {},
   "outputs": [
    {
     "name": "stdout",
     "output_type": "stream",
     "text": [
      "<class 'pandas.core.frame.DataFrame'>\n",
      "Index: 191315 entries, 18460 to 218499\n",
      "Data columns (total 21 columns):\n",
      " #   Column           Non-Null Count   Dtype              \n",
      "---  ------           --------------   -----              \n",
      " 0   job_id           191315 non-null  int64              \n",
      " 1   job_state        191315 non-null  object             \n",
      " 2   submit_time      191315 non-null  datetime64[ns, UTC]\n",
      " 3   eligible_time    191315 non-null  datetime64[ns, UTC]\n",
      " 4   start_time       191315 non-null  datetime64[ns, UTC]\n",
      " 5   end_time         191315 non-null  datetime64[ns, UTC]\n",
      " 6   run_time         191315 non-null  int64              \n",
      " 7   wait_time        191315 non-null  float64            \n",
      " 8   cores_per_task   191315 non-null  int64              \n",
      " 9   shared           191315 non-null  int64              \n",
      " 10  partition        191315 non-null  int64              \n",
      " 11  priority         191315 non-null  int64              \n",
      " 12  num_tasks        191315 non-null  float64            \n",
      " 13  state_reason     191315 non-null  object             \n",
      " 14  num_cores_alloc  191315 non-null  int64              \n",
      " 15  num_nodes_alloc  191315 non-null  int64              \n",
      " 16  num_gpus_alloc   191315 non-null  int64              \n",
      " 17  mem_alloc        191315 non-null  int64              \n",
      " 18  mean_node_power  191315 non-null  float64            \n",
      " 19  mean_cpu_power   191315 non-null  float64            \n",
      " 20  mean_mem_power   191315 non-null  float64            \n",
      "dtypes: datetime64[ns, UTC](4), float64(5), int64(10), object(2)\n",
      "memory usage: 32.1+ MB\n"
     ]
    }
   ],
   "source": [
    "subset_df.info()"
   ]
  },
  {
   "cell_type": "code",
   "execution_count": 183,
   "metadata": {},
   "outputs": [],
   "source": [
    "# Save DataFrame to CSV\n",
    "subset_df.to_csv('clean_data.csv', index=False, date_format='%Y-%m-%d %H:%M:%S')\n",
    "\n",
    "\n"
   ]
  },
  {
   "cell_type": "code",
   "execution_count": 184,
   "metadata": {},
   "outputs": [],
   "source": [
    "# # Get earliest and latest dates\n",
    "# earliest_date = subset_df['submit_time'].min()\n",
    "# latest_date = subset_df['submit_time'].max()\n",
    "\n",
    "# print(\"Earliest Date:\", earliest_date)\n",
    "# print(\"Latest Date:\", latest_date)"
   ]
  },
  {
   "cell_type": "markdown",
   "metadata": {},
   "source": [
    "# Getting normally distributed node power and run time metrics\n",
    "Creating a synthetic dataset"
   ]
  },
  {
   "cell_type": "code",
   "execution_count": 1,
   "metadata": {},
   "outputs": [
    {
     "name": "stderr",
     "output_type": "stream",
     "text": [
      "/tmp/ipykernel_11217/4086838479.py:6: UserWarning: Could not infer format, so each element will be parsed individually, falling back to `dateutil`. To ensure parsing is consistent and as-expected, please specify a format.\n",
      "  df = pd.read_csv('clean_data.csv', parse_dates=time_columns)\n"
     ]
    }
   ],
   "source": [
    "import pandas as pd\n",
    "file_path = 'clean_data.csv'\n",
    "\n",
    "# Read CSV and ensure datetime columns are parsed correctly\n",
    "time_columns = ['submit_time', 'eligible_time', 'start_time', 'end_time', 'wait_time']\n",
    "df = pd.read_csv('clean_data.csv', parse_dates=time_columns)\n",
    "# Now 'df' contains the data from the second sheet"
   ]
  },
  {
   "cell_type": "code",
   "execution_count": 113,
   "metadata": {},
   "outputs": [
    {
     "name": "stdout",
     "output_type": "stream",
     "text": [
      "              job_id                    submit_time  \\\n",
      "count  191315.000000                         191315   \n",
      "mean    95658.000000  2020-08-08 09:56:55.977790720   \n",
      "min         1.000000            2020-05-05 15:55:59   \n",
      "25%     47829.500000            2020-06-24 15:58:30   \n",
      "50%     95658.000000            2020-08-19 15:48:11   \n",
      "75%    143486.500000            2020-09-25 08:08:56   \n",
      "max    191315.000000            2020-10-12 23:50:26   \n",
      "std     55228.027712                            NaN   \n",
      "\n",
      "                       eligible_time                     start_time  \\\n",
      "count                         191315                         191315   \n",
      "mean   2020-08-08 08:44:01.693646336  2020-08-08 11:59:31.200783872   \n",
      "min              1970-01-01 00:00:00            2020-05-05 15:56:00   \n",
      "25%              2020-06-24 15:58:30            2020-06-24 15:58:33   \n",
      "50%              2020-08-19 16:36:37            2020-08-19 16:36:46   \n",
      "75%              2020-09-25 12:54:46     2020-09-25 14:25:17.500000   \n",
      "max              2020-10-12 23:50:26            2020-10-12 23:51:21   \n",
      "std                              NaN                            NaN   \n",
      "\n",
      "                            end_time       run_time  cores_per_task  \\\n",
      "count                         191315  191315.000000   191315.000000   \n",
      "mean   2020-08-08 13:33:06.483469568    5615.282686       15.597376   \n",
      "min              2020-05-06 08:52:54       1.000000        1.000000   \n",
      "25%              2020-06-24 16:43:21       7.000000        1.000000   \n",
      "50%              2020-08-19 19:11:31     146.000000        8.000000   \n",
      "75%       2020-09-25 17:04:37.500000    2032.000000       32.000000   \n",
      "max              2020-10-13 05:15:54  125311.000000      128.000000   \n",
      "std                              NaN   16328.279164       17.354117   \n",
      "\n",
      "              shared     partition       priority      num_tasks  \\\n",
      "count  191315.000000  1.913150e+05  191315.000000  191315.000000   \n",
      "mean        0.829517  1.864435e+05       0.992928      12.852698   \n",
      "min         0.000000  0.000000e+00       0.000000       0.000000   \n",
      "25%         1.000000  9.286500e+04       1.000000       4.000000   \n",
      "50%         1.000000  1.866030e+05       1.000000       4.000000   \n",
      "75%         1.000000  2.680450e+05       1.000000      12.852698   \n",
      "max         1.000000  1.306973e+06       1.000000     648.000000   \n",
      "std         0.376058  9.496610e+04       0.083798      24.143125   \n",
      "\n",
      "       num_cores_alloc  num_nodes_alloc  num_gpus_alloc      mem_alloc  \\\n",
      "count    191315.000000    191315.000000   191315.000000  191315.000000   \n",
      "mean        107.315872         1.173761        4.127314     213.540993   \n",
      "min           4.000000         1.000000        0.000000       0.000000   \n",
      "25%          32.000000         1.000000        4.000000     118.000000   \n",
      "50%         128.000000         1.000000        4.000000     237.000000   \n",
      "75%         128.000000         1.000000        4.000000     237.000000   \n",
      "max       20736.000000       162.000000      648.000000   38475.000000   \n",
      "std         106.953631         0.732607        3.212431     190.284860   \n",
      "\n",
      "       mean_node_power  mean_cpu_power  mean_mem_power  \n",
      "count    191315.000000   191315.000000   191315.000000  \n",
      "mean        841.263481      142.347877       44.559368  \n",
      "min          20.000000       22.666667       28.000000  \n",
      "25%         560.000000       78.000000       36.000000  \n",
      "50%         740.000000      102.780488       37.157895  \n",
      "75%         940.000000      174.011173       40.428571  \n",
      "max        2440.526316    21683.333333     5848.000000  \n",
      "std         369.343803      118.132777       25.982101  \n"
     ]
    }
   ],
   "source": [
    "print(df.describe())"
   ]
  },
  {
   "cell_type": "code",
   "execution_count": 114,
   "metadata": {},
   "outputs": [
    {
     "name": "stdout",
     "output_type": "stream",
     "text": [
      "   job_id  job_state         submit_time       eligible_time  \\\n",
      "0       1    TIMEOUT 2020-05-05 15:55:59 2020-05-05 15:55:59   \n",
      "1       2    TIMEOUT 2020-05-05 16:01:00 2020-05-05 16:01:00   \n",
      "2       3    TIMEOUT 2020-05-05 16:21:46 2020-05-05 16:21:46   \n",
      "3       4    TIMEOUT 2020-05-05 20:53:46 2020-05-05 20:53:46   \n",
      "4       5  COMPLETED 2020-05-06 06:41:32 2020-05-06 06:41:32   \n",
      "\n",
      "           start_time            end_time  run_time wait_time  cores_per_task  \\\n",
      "0 2020-05-05 15:56:00 2020-05-06 15:56:07     86407   86407.0              32   \n",
      "1 2020-05-05 16:01:00 2020-05-06 16:01:07     86407   86407.0              32   \n",
      "2 2020-05-05 16:21:47 2020-05-06 16:22:07     86420   86420.0              32   \n",
      "3 2020-05-05 20:53:46 2020-05-06 19:54:12     82826   82826.0               1   \n",
      "4 2020-05-06 06:41:51 2020-05-06 10:22:34     13243   13243.0               4   \n",
      "\n",
      "   shared  ...  priority  num_tasks  state_reason num_cores_alloc  \\\n",
      "0       1  ...         1  12.852698     TimeLimit             128   \n",
      "1       1  ...         1  12.852698     TimeLimit             128   \n",
      "2       1  ...         1  12.852698     TimeLimit             128   \n",
      "3       1  ...         1  12.852698     TimeLimit              32   \n",
      "4       1  ...         1  12.852698     No reason               4   \n",
      "\n",
      "   num_nodes_alloc  num_gpus_alloc  mem_alloc  mean_node_power  \\\n",
      "0                1               4        237      1206.606862   \n",
      "1                1               4        237      1240.646884   \n",
      "2                1               4        237      1102.062371   \n",
      "3                4              16        898      2241.573820   \n",
      "4                1               4         64       875.916955   \n",
      "\n",
      "   mean_cpu_power  mean_mem_power  \n",
      "0      222.946608       39.152638  \n",
      "1      273.697368       37.987440  \n",
      "2      224.689121       37.608346  \n",
      "3      304.519221      127.146780  \n",
      "4       73.930783       36.761384  \n",
      "\n",
      "[5 rows x 21 columns]\n"
     ]
    }
   ],
   "source": [
    "print(df.head())"
   ]
  },
  {
   "cell_type": "code",
   "execution_count": 101,
   "metadata": {},
   "outputs": [
    {
     "name": "stdout",
     "output_type": "stream",
     "text": [
      "Skewness of Node Power:  1.897954461675663 \n",
      " Skewness of Run Time:  3.788256619033879\n"
     ]
    }
   ],
   "source": [
    "print('Skewness of Node Power: ', df['mean_node_power'].skew(),'\\n','Skewness of Run Time: ', df['run_time'].skew())\n"
   ]
  },
  {
   "cell_type": "code",
   "execution_count": 21,
   "metadata": {},
   "outputs": [
    {
     "name": "stdout",
     "output_type": "stream",
     "text": [
      "<class 'pandas.core.frame.DataFrame'>\n",
      "RangeIndex: 191315 entries, 0 to 191314\n",
      "Data columns (total 21 columns):\n",
      " #   Column           Non-Null Count   Dtype         \n",
      "---  ------           --------------   -----         \n",
      " 0   job_id           191315 non-null  int64         \n",
      " 1   job_state        191315 non-null  object        \n",
      " 2   submit_time      191315 non-null  datetime64[ns]\n",
      " 3   eligible_time    191315 non-null  datetime64[ns]\n",
      " 4   start_time       191315 non-null  datetime64[ns]\n",
      " 5   end_time         191315 non-null  datetime64[ns]\n",
      " 6   run_time         191315 non-null  int64         \n",
      " 7   wait_time        191315 non-null  object        \n",
      " 8   cores_per_task   191315 non-null  int64         \n",
      " 9   shared           191315 non-null  int64         \n",
      " 10  partition        191315 non-null  int64         \n",
      " 11  priority         191315 non-null  int64         \n",
      " 12  num_tasks        191315 non-null  float64       \n",
      " 13  state_reason     191315 non-null  object        \n",
      " 14  num_cores_alloc  191315 non-null  int64         \n",
      " 15  num_nodes_alloc  191315 non-null  int64         \n",
      " 16  num_gpus_alloc   191315 non-null  int64         \n",
      " 17  mem_alloc        191315 non-null  int64         \n",
      " 18  mean_node_power  191315 non-null  float64       \n",
      " 19  mean_cpu_power   191315 non-null  float64       \n",
      " 20  mean_mem_power   191315 non-null  float64       \n",
      "dtypes: datetime64[ns](4), float64(4), int64(10), object(3)\n",
      "memory usage: 30.7+ MB\n"
     ]
    }
   ],
   "source": [
    "df.info()"
   ]
  },
  {
   "cell_type": "code",
   "execution_count": 107,
   "metadata": {},
   "outputs": [
    {
     "data": {
      "image/png": "[encoded data removed]",
      "text/plain": [
       "<Figure size 640x480 with 1 Axes>"
      ]
     },
     "metadata": {},
     "output_type": "display_data"
    }
   ],
   "source": [
    "import matplotlib.pyplot as plt\n",
    "\n",
    "synthetic_df['mean_node_power'].plot.hist(bins=50)\n",
    "plt.title('Distribution of Mean Node Power')\n",
    "plt.xlabel('Mean Power Time')\n",
    "plt.ylabel('Frequency')\n",
    "plt.show()"
   ]
  },
  {
   "cell_type": "code",
   "execution_count": 108,
   "metadata": {},
   "outputs": [
    {
     "data": {
      "image/png": "[encoded data removed]",
      "text/plain": [
       "<Figure size 640x480 with 1 Axes>"
      ]
     },
     "metadata": {},
     "output_type": "display_data"
    }
   ],
   "source": [
    "import matplotlib.pyplot as plt\n",
    "\n",
    "synthetic_df['run_time'].plot.hist(bins=50)\n",
    "plt.title('Distribution of Run Time')\n",
    "plt.xlabel('Run Time')\n",
    "plt.ylabel('Frequency')\n",
    "plt.show()"
   ]
  },
  {
   "cell_type": "markdown",
   "metadata": {},
   "source": [
    "# Creating a synthetic dataset that has normally distributed node power and run time metrics"
   ]
  },
  {
   "cell_type": "code",
   "execution_count": 2,
   "metadata": {},
   "outputs": [
    {
     "name": "stderr",
     "output_type": "stream",
     "text": [
      "/tmp/ipykernel_11217/4086838479.py:6: UserWarning: Could not infer format, so each element will be parsed individually, falling back to `dateutil`. To ensure parsing is consistent and as-expected, please specify a format.\n",
      "  df = pd.read_csv('clean_data.csv', parse_dates=time_columns)\n"
     ]
    }
   ],
   "source": [
    "import pandas as pd\n",
    "file_path = 'clean_data.csv'\n",
    "\n",
    "# Read CSV and ensure datetime columns are parsed correctly\n",
    "time_columns = ['submit_time', 'eligible_time', 'start_time', 'end_time', 'wait_time']\n",
    "df = pd.read_csv('clean_data.csv', parse_dates=time_columns)\n",
    "# Now 'df' contains the data from the second sheet"
   ]
  },
  {
   "cell_type": "code",
   "execution_count": 3,
   "metadata": {},
   "outputs": [],
   "source": [
    "import numpy as np\n",
    "from scipy import stats\n",
    "import pandas as pd\n",
    "\n",
    "def generate_synthetic_data(size=191315, seed=42):\n",
    "    \"\"\"\n",
    "    Generate synthetic data with normal distributions based on original dataset parameters\n",
    "    \"\"\"\n",
    "    np.random.seed(seed)\n",
    "    \n",
    "    # Generate synthetic mean_node_power\n",
    "    mean_power = 841.26\n",
    "    std_power = 369.34\n",
    "    synthetic_power = np.random.normal(mean_power, std_power, size)\n",
    "    synthetic_power = np.clip(synthetic_power, 20, 2440)\n",
    "    \n",
    "    # Generate synthetic run_time\n",
    "    mean_time = 5615.28\n",
    "    std_time = 16328.28 / 3  # Reducing std to keep values more reasonable\n",
    "    synthetic_time = np.random.normal(mean_time, std_time, size)\n",
    "    synthetic_time = np.clip(synthetic_time, 1, 125311)\n",
    "    \n",
    "    # Create DataFrame\n",
    "    df = pd.DataFrame({\n",
    "        'mean_node_power': synthetic_power,\n",
    "        'run_time': synthetic_time\n",
    "    })\n",
    "    \n",
    "    # Calculate statistics\n",
    "    stats_dict = {\n",
    "        'mean_node_power': {\n",
    "            'mean': df['mean_node_power'].mean(),\n",
    "            'std': df['mean_node_power'].std(),\n",
    "            'skewness': stats.skew(df['mean_node_power']),\n",
    "            'normality_pvalue': stats.normaltest(df['mean_node_power']).pvalue\n",
    "        },\n",
    "        'run_time': {\n",
    "            'mean': df['run_time'].mean(),\n",
    "            'std': df['run_time'].std(),\n",
    "            'skewness': stats.skew(df['run_time']),\n",
    "            'normality_pvalue': stats.normaltest(df['run_time']).pvalue\n",
    "        }\n",
    "    }\n",
    "    \n",
    "    return df, stats_dict\n",
    "\n",
    "# Generate the data\n",
    "synthetic_df, statistics = generate_synthetic_data()\n",
    "\n",
    "# The resulting synthetic_df will have normally distributed values \n",
    "# while maintaining reasonable ranges based on the original data"
   ]
  },
  {
   "cell_type": "code",
   "execution_count": 4,
   "metadata": {},
   "outputs": [],
   "source": [
    "import numpy as np\n",
    "from scipy import stats\n",
    "import pandas as pd\n",
    "\n",
    "def generate_more_normal_data(size=191315, seed=42):\n",
    "    \"\"\"\n",
    "    Generate highly normal synthetic data using transformations and precise controls\n",
    "    \"\"\"\n",
    "    np.random.seed(seed)\n",
    "    \n",
    "    # Generate base normal distributions\n",
    "    # Using smaller std to ensure better control\n",
    "    mean_power = 841.26\n",
    "    std_power = 369.34 * 0.8  # Reducing std for tighter control\n",
    "    \n",
    "    mean_time = 5615.28\n",
    "    std_time = 16328.28 * 0.2  # Significantly reducing std for better normality\n",
    "    \n",
    "    # Generate initial normal distributions\n",
    "    synthetic_power = np.random.normal(mean_power, std_power, size)\n",
    "    synthetic_time = np.random.normal(mean_time, std_time, size)\n",
    "    \n",
    "    # Apply z-score based clipping to maintain normality\n",
    "    z_threshold = 3\n",
    "    power_zscore = np.abs(stats.zscore(synthetic_power))\n",
    "    time_zscore = np.abs(stats.zscore(synthetic_time))\n",
    "    \n",
    "    synthetic_power = synthetic_power[power_zscore < z_threshold]\n",
    "    synthetic_time = synthetic_time[time_zscore < z_threshold]\n",
    "    \n",
    "    # Ensure positive values while maintaining normality\n",
    "    synthetic_power = np.maximum(synthetic_power, 20)\n",
    "    synthetic_time = np.maximum(synthetic_time, 1)\n",
    "    \n",
    "    # Resize to match original size (to replace filtered values)\n",
    "    while len(synthetic_power) < size:\n",
    "        additional = np.random.normal(mean_power, std_power, size - len(synthetic_power))\n",
    "        additional = additional[additional > 20]\n",
    "        synthetic_power = np.concatenate([synthetic_power, additional])\n",
    "    \n",
    "    while len(synthetic_time) < size:\n",
    "        additional = np.random.normal(mean_time, std_time, size - len(synthetic_time))\n",
    "        additional = additional[additional > 1]\n",
    "        synthetic_time = np.concatenate([synthetic_time, additional])\n",
    "    \n",
    "    # Trim to exact size\n",
    "    synthetic_power = synthetic_power[:size]\n",
    "    synthetic_time = synthetic_time[:size]\n",
    "    \n",
    "    # Create DataFrame\n",
    "    df = pd.DataFrame({\n",
    "        'mean_node_power': synthetic_power,\n",
    "        'run_time': synthetic_time\n",
    "    })\n",
    "    \n",
    "    # Calculate comprehensive statistics\n",
    "    stats_dict = {\n",
    "        'mean_node_power': {\n",
    "            'mean': df['mean_node_power'].mean(),\n",
    "            'std': df['mean_node_power'].std(),\n",
    "            'skewness': stats.skew(df['mean_node_power']),\n",
    "            'kurtosis': stats.kurtosis(df['mean_node_power']),\n",
    "            'normality_pvalue': stats.normaltest(df['mean_node_power']).pvalue,\n",
    "            'shapiro_pvalue': stats.shapiro(df['mean_node_power'][:5000])[1]  # Shapiro test limited to 5000 samples\n",
    "        },\n",
    "        'run_time': {\n",
    "            'mean': df['run_time'].mean(),\n",
    "            'std': df['run_time'].std(),\n",
    "            'skewness': stats.skew(df['run_time']),\n",
    "            'kurtosis': stats.kurtosis(df['run_time']),\n",
    "            'normality_pvalue': stats.normaltest(df['run_time']).pvalue,\n",
    "            'shapiro_pvalue': stats.shapiro(df['run_time'][:5000])[1]  # Shapiro test limited to 5000 samples\n",
    "        }\n",
    "    }\n",
    "    \n",
    "    return df, stats_dict\n",
    "\n",
    "# Generate the data\n",
    "synthetic_df, statistics = generate_more_normal_data()\n",
    "\n",
    "# The resulting synthetic_df will have highly normal distributions\n",
    "# while maintaining reasonable ranges based on the original data"
   ]
  },
  {
   "cell_type": "code",
   "execution_count": 5,
   "metadata": {},
   "outputs": [
    {
     "name": "stdout",
     "output_type": "stream",
     "text": [
      "<class 'pandas.core.frame.DataFrame'>\n",
      "RangeIndex: 191315 entries, 0 to 191314\n",
      "Data columns (total 2 columns):\n",
      " #   Column           Non-Null Count   Dtype  \n",
      "---  ------           --------------   -----  \n",
      " 0   mean_node_power  191315 non-null  float64\n",
      " 1   run_time         191315 non-null  float64\n",
      "dtypes: float64(2)\n",
      "memory usage: 2.9 MB\n"
     ]
    }
   ],
   "source": [
    "synthetic_df.info()"
   ]
  },
  {
   "cell_type": "code",
   "execution_count": 109,
   "metadata": {},
   "outputs": [
    {
     "data": {
      "text/plain": [
       "{'mean_node_power': {'mean': np.float64(841.8522621502472),\n",
       "  'std': np.float64(291.60026007901104),\n",
       "  'skewness': np.float64(0.0029590981976692185),\n",
       "  'kurtosis': np.float64(-0.17772028519250638),\n",
       "  'normality_pvalue': np.float64(8.645727966533133e-67),\n",
       "  'shapiro_pvalue': np.float64(0.0064137596346418935)},\n",
       " 'run_time': {'mean': np.float64(5666.123553485529),\n",
       "  'std': np.float64(3116.1839635410265),\n",
       "  'skewness': np.float64(0.17556794025443717),\n",
       "  'kurtosis': np.float64(-0.4324339833481221),\n",
       "  'normality_pvalue': np.float64(0.0),\n",
       "  'shapiro_pvalue': np.float64(3.7037207621215293e-20)}}"
      ]
     },
     "execution_count": 109,
     "metadata": {},
     "output_type": "execute_result"
    }
   ],
   "source": [
    "statistics"
   ]
  },
  {
   "cell_type": "markdown",
   "metadata": {},
   "source": [
    "# Creating a representative HPC job trace that has normalized runtimes and power data\n",
    "synthetic dataset"
   ]
  },
  {
   "cell_type": "code",
   "execution_count": 71,
   "metadata": {},
   "outputs": [
    {
     "name": "stderr",
     "output_type": "stream",
     "text": [
      "/tmp/ipykernel_11217/4086838479.py:6: UserWarning: Could not infer format, so each element will be parsed individually, falling back to `dateutil`. To ensure parsing is consistent and as-expected, please specify a format.\n",
      "  df = pd.read_csv('clean_data.csv', parse_dates=time_columns)\n"
     ]
    }
   ],
   "source": [
    "import pandas as pd\n",
    "file_path = 'clean_data.csv'\n",
    "\n",
    "# Read CSV and ensure datetime columns are parsed correctly\n",
    "time_columns = ['submit_time', 'eligible_time', 'start_time', 'end_time', 'wait_time']\n",
    "df = pd.read_csv('clean_data.csv', parse_dates=time_columns)\n",
    "# Now 'df' contains the data from the second sheet"
   ]
  },
  {
   "cell_type": "code",
   "execution_count": 72,
   "metadata": {},
   "outputs": [
    {
     "data": {
      "text/plain": [
       "Index(['job_id', 'job_state', 'submit_time', 'eligible_time', 'start_time',\n",
       "       'end_time', 'run_time', 'wait_time', 'cores_per_task', 'shared',\n",
       "       'partition', 'priority', 'num_tasks', 'state_reason', 'num_cores_alloc',\n",
       "       'num_nodes_alloc', 'num_gpus_alloc', 'mem_alloc', 'mean_node_power',\n",
       "       'mean_cpu_power', 'mean_mem_power'],\n",
       "      dtype='object')"
      ]
     },
     "execution_count": 72,
     "metadata": {},
     "output_type": "execute_result"
    }
   ],
   "source": [
    "df.columns"
   ]
  },
  {
   "cell_type": "code",
   "execution_count": 73,
   "metadata": {},
   "outputs": [],
   "source": [
    "import numpy as np\n",
    "from scipy import stats\n",
    "import pandas as pd\n",
    "from sklearn.preprocessing import StandardScaler, PowerTransformer, QuantileTransformer\n",
    "\n",
    "def normalize_hpc_metrics(df, seed=42):\n",
    "    \"\"\"\n",
    "    Generate normalized run_time and mean_node_power while preserving job characteristics relationships\n",
    "    and keeping all original columns\n",
    "    \"\"\"\n",
    "    np.random.seed(seed)\n",
    "    \n",
    "    # Select features that influence run_time and power\n",
    "    features = ['cores_per_task', 'num_cores_alloc', 'num_nodes_alloc', \n",
    "               'num_gpus_alloc', 'mem_alloc', 'num_tasks']\n",
    "    \n",
    "    X = df[features].copy()\n",
    "    scaler = StandardScaler()\n",
    "    X_scaled = scaler.fit_transform(X)\n",
    "    \n",
    "    # Base scores for power\n",
    "    base_scores_power = (\n",
    "        0.3 * X_scaled[:, 0] +  # cores_per_task\n",
    "        0.3 * X_scaled[:, 1] +  # num_cores_alloc\n",
    "        0.2 * X_scaled[:, 2] +  # num_nodes_alloc\n",
    "        0.1 * X_scaled[:, 3] +  # num_gpus_alloc\n",
    "        0.1 * X_scaled[:, 4]    # mem_alloc\n",
    "    )\n",
    "    \n",
    "    # Base scores for run time\n",
    "    base_scores_time = (\n",
    "        0.2 * X_scaled[:, 0] +   # cores_per_task\n",
    "        0.2 * X_scaled[:, 1] +   # num_cores_alloc\n",
    "        0.2 * X_scaled[:, 2] +   # num_nodes_alloc\n",
    "        0.2 * X_scaled[:, 3] +   # num_gpus_alloc\n",
    "        0.2 * X_scaled[:, 4]     # mem_alloc\n",
    "    )\n",
    "    \n",
    "    def generate_normalized_run_time(base, original_mean, original_std, min_val):\n",
    "        pt = PowerTransformer(method='yeo-johnson', standardize=True)\n",
    "        base_transformed = pt.fit_transform(base.reshape(-1, 1)).ravel()\n",
    "        \n",
    "        qt = QuantileTransformer(output_distribution='normal', random_state=seed)\n",
    "        base_transformed = qt.fit_transform(base_transformed.reshape(-1, 1)).ravel()\n",
    "        \n",
    "        base_percentiles = stats.rankdata(base_transformed) / len(base_transformed)\n",
    "        \n",
    "        normal_dist = np.random.normal(original_mean, original_std/4, len(base))\n",
    "        normal_dist.sort()\n",
    "        \n",
    "        mapped_values = np.interp(base_percentiles, \n",
    "                                np.linspace(0, 1, len(base)), \n",
    "                                normal_dist)\n",
    "        \n",
    "        noise = np.random.normal(0, original_std/30, len(mapped_values))\n",
    "        mapped_values += noise\n",
    "        \n",
    "        mapped_values = np.clip(mapped_values, min_val, original_mean + 2*original_std)\n",
    "        \n",
    "        return mapped_values\n",
    "    \n",
    "    def generate_normalized_power(base, original_mean, original_std, min_val):\n",
    "        base_percentiles = stats.rankdata(base) / len(base)\n",
    "        normal_dist = np.random.normal(original_mean, original_std/2, len(base))\n",
    "        normal_dist.sort()\n",
    "        \n",
    "        mapped_values = np.interp(base_percentiles, \n",
    "                                np.linspace(0, 1, len(base)), \n",
    "                                normal_dist)\n",
    "        \n",
    "        return np.maximum(mapped_values, min_val)\n",
    "    \n",
    "    # Generate new normalized values\n",
    "    new_run_time = generate_normalized_run_time(\n",
    "        base_scores_time,\n",
    "        df['run_time'].mean(),\n",
    "        df['run_time'].std(),\n",
    "        1.0\n",
    "    )\n",
    "    \n",
    "    new_node_power = generate_normalized_power(\n",
    "        base_scores_power,\n",
    "        df['mean_node_power'].mean(),\n",
    "        df['mean_node_power'].std(),\n",
    "        20.0\n",
    "    )\n",
    "    \n",
    "    # Create output DataFrame with ALL original columns plus normalized values\n",
    "    result_df = df.copy()  # Copy all original columns\n",
    "    \n",
    "    # Add normalized columns\n",
    "    result_df['normalized_run_time'] = new_run_time\n",
    "    result_df['normalized_node_power'] = new_node_power\n",
    "    \n",
    "    # Calculate statistics\n",
    "    stats_dict = {\n",
    "        'run_time': {\n",
    "            'original_mean': df['run_time'].mean(),\n",
    "            'original_std': df['run_time'].std(),\n",
    "            'original_skew': stats.skew(df['run_time']),\n",
    "            'normalized_mean': new_run_time.mean(),\n",
    "            'normalized_std': new_run_time.std(),\n",
    "            'normalized_skew': stats.skew(new_run_time),\n",
    "            'correlation_with_cores': np.corrcoef(df['cores_per_task'], new_run_time)[0,1],\n",
    "            'correlation_with_nodes': np.corrcoef(df['num_nodes_alloc'], new_run_time)[0,1]\n",
    "        },\n",
    "        'node_power': {\n",
    "            'original_mean': df['mean_node_power'].mean(),\n",
    "            'original_std': df['mean_node_power'].std(),\n",
    "            'original_skew': stats.skew(df['mean_node_power']),\n",
    "            'normalized_mean': new_node_power.mean(),\n",
    "            'normalized_std': new_node_power.std(),\n",
    "            'normalized_skew': stats.skew(new_node_power),\n",
    "            'correlation_with_cores': np.corrcoef(df['cores_per_task'], new_node_power)[0,1],\n",
    "            'correlation_with_nodes': np.corrcoef(df['num_nodes_alloc'], new_node_power)[0,1]\n",
    "        }\n",
    "    }\n",
    "    \n",
    "    return result_df, stats_dict"
   ]
  },
  {
   "cell_type": "code",
   "execution_count": 74,
   "metadata": {},
   "outputs": [
    {
     "name": "stdout",
     "output_type": "stream",
     "text": [
      "Statistics: {'run_time': {'original_mean': np.float64(5615.282685623187), 'original_std': np.float64(16328.279163786876), 'original_skew': np.float64(3.788226917247274), 'normalized_mean': np.float64(5767.922732325875), 'normalized_std': np.float64(3778.010237869221), 'normalized_skew': np.float64(0.34620117065858413), 'correlation_with_cores': np.float64(0.610215370122973), 'correlation_with_nodes': np.float64(0.4368481306541518)}, 'node_power': {'original_mean': np.float64(841.2634808153343), 'original_std': np.float64(369.3438027971018), 'original_skew': np.float64(1.897939580783454), 'normalized_mean': np.float64(840.158333230392), 'normalized_std': np.float64(183.09707352275157), 'normalized_skew': np.float64(0.0032038219195346775), 'correlation_with_cores': np.float64(0.6572005698769959), 'correlation_with_nodes': np.float64(0.40203127299050506)}}\n"
     ]
    }
   ],
   "source": [
    "# Usage example:\n",
    "normalized_df, statistics = normalize_hpc_metrics(df)\n",
    "print(\"Statistics:\", statistics)\n",
    "# \n",
    "# To verify correlations between job characteristics and normalized values:\n",
    "# print(normalized_df.corr()[['normalized_run_time', 'normalized_node_power']])"
   ]
  },
  {
   "cell_type": "code",
   "execution_count": 75,
   "metadata": {},
   "outputs": [
    {
     "name": "stdout",
     "output_type": "stream",
     "text": [
      "<class 'pandas.core.frame.DataFrame'>\n",
      "RangeIndex: 191315 entries, 0 to 191314\n",
      "Data columns (total 23 columns):\n",
      " #   Column                 Non-Null Count   Dtype         \n",
      "---  ------                 --------------   -----         \n",
      " 0   job_id                 191315 non-null  int64         \n",
      " 1   job_state              191315 non-null  object        \n",
      " 2   submit_time            191315 non-null  datetime64[ns]\n",
      " 3   eligible_time          191315 non-null  datetime64[ns]\n",
      " 4   start_time             191315 non-null  datetime64[ns]\n",
      " 5   end_time               191315 non-null  datetime64[ns]\n",
      " 6   run_time               191315 non-null  int64         \n",
      " 7   wait_time              191315 non-null  object        \n",
      " 8   cores_per_task         191315 non-null  int64         \n",
      " 9   shared                 191315 non-null  int64         \n",
      " 10  partition              191315 non-null  int64         \n",
      " 11  priority               191315 non-null  int64         \n",
      " 12  num_tasks              191315 non-null  float64       \n",
      " 13  state_reason           191315 non-null  object        \n",
      " 14  num_cores_alloc        191315 non-null  int64         \n",
      " 15  num_nodes_alloc        191315 non-null  int64         \n",
      " 16  num_gpus_alloc         191315 non-null  int64         \n",
      " 17  mem_alloc              191315 non-null  int64         \n",
      " 18  mean_node_power        191315 non-null  float64       \n",
      " 19  mean_cpu_power         191315 non-null  float64       \n",
      " 20  mean_mem_power         191315 non-null  float64       \n",
      " 21  normalized_run_time    191315 non-null  float64       \n",
      " 22  normalized_node_power  191315 non-null  float64       \n",
      "dtypes: datetime64[ns](4), float64(6), int64(10), object(3)\n",
      "memory usage: 33.6+ MB\n"
     ]
    }
   ],
   "source": [
    "normalized_df.info()"
   ]
  },
  {
   "cell_type": "code",
   "execution_count": 76,
   "metadata": {},
   "outputs": [
    {
     "data": {
      "image/png": "[encoded data removed]",
      "text/plain": [
       "<Figure size 640x480 with 1 Axes>"
      ]
     },
     "metadata": {},
     "output_type": "display_data"
    }
   ],
   "source": [
    "import matplotlib.pyplot as plt\n",
    "\n",
    "normalized_df['normalized_run_time'].plot.hist(bins=50)\n",
    "plt.title('Distribution of Run Time')\n",
    "plt.xlabel('Run Time')\n",
    "plt.ylabel('Frequency')\n",
    "plt.show()"
   ]
  },
  {
   "cell_type": "code",
   "execution_count": 77,
   "metadata": {},
   "outputs": [
    {
     "data": {
      "image/png": "[encoded data removed]",
      "text/plain": [
       "<Figure size 640x480 with 1 Axes>"
      ]
     },
     "metadata": {},
     "output_type": "display_data"
    }
   ],
   "source": [
    "import matplotlib.pyplot as plt\n",
    "\n",
    "normalized_df['normalized_node_power'].plot.hist(bins=50)\n",
    "plt.title('Distribution of Mean Node Power')\n",
    "plt.xlabel('Mean Power Time')\n",
    "plt.ylabel('Frequency')\n",
    "plt.show()"
   ]
  },
  {
   "cell_type": "code",
   "execution_count": 78,
   "metadata": {},
   "outputs": [],
   "source": [
    "# print(normalized_df.head())\n",
    "# print(normalized_df.isna().sum())"
   ]
  },
  {
   "cell_type": "code",
   "execution_count": 79,
   "metadata": {},
   "outputs": [
    {
     "name": "stdout",
     "output_type": "stream",
     "text": [
      "Skewness of Normalized Node Power:  0.003203847039264054 \n",
      " Skewness of Normalized  Run Time:  0.3462038850665428\n"
     ]
    }
   ],
   "source": [
    "print('Skewness of Normalized Node Power: ', normalized_df['normalized_node_power'].skew(),'\\n','Skewness of Normalized  Run Time: ', normalized_df['normalized_run_time'].skew())"
   ]
  },
  {
   "cell_type": "code",
   "execution_count": 80,
   "metadata": {},
   "outputs": [],
   "source": [
    "normalized_df = normalized_df.drop('run_time', axis=1)\n",
    "normalized_df = normalized_df.drop('mean_node_power', axis=1)\n",
    "normalized_df = normalized_df.drop('partition', axis=1)\n",
    "\n",
    "normalized_df = normalized_df.rename(columns={'normalized_run_time': 'run_time'})\n",
    "normalized_df = normalized_df.rename(columns={'normalized_node_power': 'mean_node_power'})"
   ]
  },
  {
   "cell_type": "code",
   "execution_count": 82,
   "metadata": {},
   "outputs": [
    {
     "name": "stdout",
     "output_type": "stream",
     "text": [
      "<class 'pandas.core.frame.DataFrame'>\n",
      "RangeIndex: 191315 entries, 0 to 191314\n",
      "Data columns (total 20 columns):\n",
      " #   Column           Non-Null Count   Dtype         \n",
      "---  ------           --------------   -----         \n",
      " 0   job_id           191315 non-null  int64         \n",
      " 1   job_state        191315 non-null  object        \n",
      " 2   submit_time      191315 non-null  datetime64[ns]\n",
      " 3   eligible_time    191315 non-null  datetime64[ns]\n",
      " 4   start_time       191315 non-null  datetime64[ns]\n",
      " 5   end_time         191315 non-null  datetime64[ns]\n",
      " 6   wait_time        191315 non-null  object        \n",
      " 7   cores_per_task   191315 non-null  int64         \n",
      " 8   shared           191315 non-null  int64         \n",
      " 9   priority         191315 non-null  int64         \n",
      " 10  num_tasks        191315 non-null  float64       \n",
      " 11  state_reason     191315 non-null  object        \n",
      " 12  num_cores_alloc  191315 non-null  int64         \n",
      " 13  num_nodes_alloc  191315 non-null  int64         \n",
      " 14  num_gpus_alloc   191315 non-null  int64         \n",
      " 15  mem_alloc        191315 non-null  int64         \n",
      " 16  mean_cpu_power   191315 non-null  float64       \n",
      " 17  mean_mem_power   191315 non-null  float64       \n",
      " 18  run_time         191315 non-null  float64       \n",
      " 19  mean_node_power  191315 non-null  float64       \n",
      "dtypes: datetime64[ns](4), float64(5), int64(8), object(3)\n",
      "memory usage: 29.2+ MB\n"
     ]
    }
   ],
   "source": [
    "normalized_df.info()"
   ]
  },
  {
   "cell_type": "code",
   "execution_count": 83,
   "metadata": {},
   "outputs": [],
   "source": [
    "# Save DataFrame to CSV\n",
    "normalized_df.to_csv('normalized_data.csv', index=False, date_format='%Y-%m-%d %H:%M:%S')"
   ]
  },
  {
   "cell_type": "code",
   "execution_count": null,
   "metadata": {},
   "outputs": [
    {
     "name": "stdout",
     "output_type": "stream",
     "text": [
      "   job_id  job_state         submit_time       eligible_time  \\\n",
      "0       1    TIMEOUT 2020-05-05 15:55:59 2020-05-05 15:55:59   \n",
      "1       2    TIMEOUT 2020-05-05 16:01:00 2020-05-05 16:01:00   \n",
      "2       3    TIMEOUT 2020-05-05 16:21:46 2020-05-05 16:21:46   \n",
      "3       4    TIMEOUT 2020-05-05 20:53:46 2020-05-05 20:53:46   \n",
      "4       5  COMPLETED 2020-05-06 06:41:32 2020-05-06 06:41:32   \n",
      "\n",
      "           start_time wait_time  cores_per_task  shared  priority  num_tasks  \\\n",
      "0 2020-05-05 15:56:00   86407.0              32       1         1  12.852698   \n",
      "1 2020-05-05 16:01:00   86407.0              32       1         1  12.852698   \n",
      "2 2020-05-05 16:21:47   86420.0              32       1         1  12.852698   \n",
      "3 2020-05-05 20:53:46   82826.0               1       1         1  12.852698   \n",
      "4 2020-05-06 06:41:51   13243.0               4       1         1  12.852698   \n",
      "\n",
      "  state_reason  num_cores_alloc  num_nodes_alloc  num_gpus_alloc  mem_alloc  \\\n",
      "0    TimeLimit              128                1               4        237   \n",
      "1    TimeLimit              128                1               4        237   \n",
      "2    TimeLimit              128                1               4        237   \n",
      "3    TimeLimit               32                4              16        898   \n",
      "4    No reason                4                1               4         64   \n",
      "\n",
      "   mean_cpu_power  mean_mem_power      run_time  mean_node_power  \\\n",
      "0      222.946608       39.152638   8669.464517       971.320238   \n",
      "1      273.697368       37.987440   7388.687564       971.320238   \n",
      "2      224.689121       37.608346   8201.023267       971.320238   \n",
      "3      304.519221      127.146780  13302.112705      1122.903373   \n",
      "4       73.930783       36.761384   1651.941251       589.874938   \n",
      "\n",
      "             end_time  \n",
      "0 2020-05-05 18:20:29  \n",
      "1 2020-05-05 18:04:08  \n",
      "2 2020-05-05 18:38:28  \n",
      "3 2020-05-06 00:35:28  \n",
      "4 2020-05-06 07:09:22  \n"
     ]
    },
    {
     "name": "stderr",
     "output_type": "stream",
     "text": [
      "/tmp/ipykernel_17930/2597580959.py:8: UserWarning: Could not infer format, so each element will be parsed individually, falling back to `dateutil`. To ensure parsing is consistent and as-expected, please specify a format.\n",
      "  df_normalized = pd.read_csv(file_path, parse_dates=time_columns)\n"
     ]
    }
   ],
   "source": [
    "import pandas as pd\n",
    "\n",
    "# Define the file path\n",
    "file_path = 'normalized_data.csv'\n",
    "\n",
    "# Read the CSV file and ensure datetime columns are parsed correctly\n",
    "time_columns = ['submit_time', 'eligible_time', 'start_time', 'end_time', 'wait_time']\n",
    "df_normalized = pd.read_csv(file_path, parse_dates=time_columns)\n",
    "\n",
    "# Display the first few rows of the dataframe\n",
    "# print(df_normalized.head())"
   ]
  },
  {
   "cell_type": "code",
   "execution_count": 25,
   "metadata": {},
   "outputs": [
    {
     "name": "stdout",
     "output_type": "stream",
     "text": [
      "<class 'pandas.core.frame.DataFrame'>\n",
      "RangeIndex: 191315 entries, 0 to 191314\n",
      "Data columns (total 20 columns):\n",
      " #   Column           Non-Null Count   Dtype         \n",
      "---  ------           --------------   -----         \n",
      " 0   job_id           191315 non-null  int64         \n",
      " 1   job_state        191315 non-null  object        \n",
      " 2   submit_time      191315 non-null  datetime64[ns]\n",
      " 3   eligible_time    191315 non-null  datetime64[ns]\n",
      " 4   start_time       191315 non-null  datetime64[ns]\n",
      " 5   end_time         191315 non-null  datetime64[ns]\n",
      " 6   wait_time        191315 non-null  object        \n",
      " 7   cores_per_task   191315 non-null  int64         \n",
      " 8   shared           191315 non-null  int64         \n",
      " 9   priority         191315 non-null  int64         \n",
      " 10  num_tasks        191315 non-null  float64       \n",
      " 11  state_reason     191315 non-null  object        \n",
      " 12  num_cores_alloc  191315 non-null  int64         \n",
      " 13  num_nodes_alloc  191315 non-null  int64         \n",
      " 14  num_gpus_alloc   191315 non-null  int64         \n",
      " 15  mem_alloc        191315 non-null  int64         \n",
      " 16  mean_cpu_power   191315 non-null  float64       \n",
      " 17  mean_mem_power   191315 non-null  float64       \n",
      " 18  run_time         191315 non-null  float64       \n",
      " 19  mean_node_power  191315 non-null  float64       \n",
      "dtypes: datetime64[ns](4), float64(5), int64(8), object(3)\n",
      "memory usage: 29.2+ MB\n"
     ]
    }
   ],
   "source": [
    "df_normalized.info()"
   ]
  },
  {
   "cell_type": "code",
   "execution_count": 26,
   "metadata": {},
   "outputs": [],
   "source": [
    "df_normalized.drop(columns=['end_time'], inplace=True)\n",
    "df_normalized['run_time'] = pd.to_timedelta(df_normalized['run_time'], unit='s')\n",
    "df_normalized['end_time'] = df_normalized['start_time'] + df_normalized['run_time']\n"
   ]
  },
  {
   "cell_type": "code",
   "execution_count": 27,
   "metadata": {},
   "outputs": [],
   "source": [
    "df_normalized['run_time'] = df_normalized['run_time'].dt.total_seconds().astype('float64')"
   ]
  },
  {
   "cell_type": "code",
   "execution_count": 32,
   "metadata": {},
   "outputs": [
    {
     "name": "stdout",
     "output_type": "stream",
     "text": [
      "<class 'pandas.core.frame.DataFrame'>\n",
      "RangeIndex: 191315 entries, 0 to 191314\n",
      "Data columns (total 20 columns):\n",
      " #   Column           Non-Null Count   Dtype         \n",
      "---  ------           --------------   -----         \n",
      " 0   job_id           191315 non-null  int64         \n",
      " 1   job_state        191315 non-null  object        \n",
      " 2   submit_time      191315 non-null  datetime64[ns]\n",
      " 3   eligible_time    191315 non-null  datetime64[ns]\n",
      " 4   start_time       191315 non-null  datetime64[ns]\n",
      " 5   wait_time        191315 non-null  object        \n",
      " 6   cores_per_task   191315 non-null  int64         \n",
      " 7   shared           191315 non-null  int64         \n",
      " 8   priority         191315 non-null  int64         \n",
      " 9   num_tasks        191315 non-null  float64       \n",
      " 10  state_reason     191315 non-null  object        \n",
      " 11  num_cores_alloc  191315 non-null  int64         \n",
      " 12  num_nodes_alloc  191315 non-null  int64         \n",
      " 13  num_gpus_alloc   191315 non-null  int64         \n",
      " 14  mem_alloc        191315 non-null  int64         \n",
      " 15  mean_cpu_power   191315 non-null  float64       \n",
      " 16  mean_mem_power   191315 non-null  float64       \n",
      " 17  run_time         191315 non-null  float64       \n",
      " 18  mean_node_power  191315 non-null  float64       \n",
      " 19  end_time         191315 non-null  datetime64[ns]\n",
      "dtypes: datetime64[ns](4), float64(5), int64(8), object(3)\n",
      "memory usage: 29.2+ MB\n"
     ]
    }
   ],
   "source": [
    "df_normalized.info()    "
   ]
  },
  {
   "cell_type": "code",
   "execution_count": 29,
   "metadata": {},
   "outputs": [],
   "source": [
    "# df_run_time = df_normalized[['start_time', 'end_time', 'run_time']].copy()\n",
    "# df_run_time['calc_run_time'] =  df_normalized['end_time'] - df_normalized['start_time']\n",
    "# df_run_time['calc_run_time'] = df_run_time['calc_run_time'].dt.total_seconds()\n",
    "# df_run_time['diff'] = df_run_time['run_time'] - df_run_time['calc_run_time']"
   ]
  },
  {
   "cell_type": "code",
   "execution_count": 30,
   "metadata": {},
   "outputs": [
    {
     "data": {
      "text/plain": [
       "count    191315.0\n",
       "mean          0.0\n",
       "std           0.0\n",
       "min           0.0\n",
       "25%           0.0\n",
       "50%           0.0\n",
       "75%           0.0\n",
       "max           0.0\n",
       "Name: diff, dtype: float64"
      ]
     },
     "execution_count": 30,
     "metadata": {},
     "output_type": "execute_result"
    }
   ],
   "source": [
    "# df_run_time['diff'].describe()"
   ]
  },
  {
   "cell_type": "code",
   "execution_count": 33,
   "metadata": {},
   "outputs": [],
   "source": [
    "# Save DataFrame to CSV\n",
    "df_normalized.to_csv('normalized_data.csv', index=False, date_format='%Y-%m-%d %H:%M:%S')"
   ]
  },
  {
   "cell_type": "markdown",
   "metadata": {},
   "source": [
    "# Deleting outliers of job run times"
   ]
  },
  {
   "cell_type": "code",
   "execution_count": 25,
   "metadata": {},
   "outputs": [
    {
     "name": "stderr",
     "output_type": "stream",
     "text": [
      "/tmp/ipykernel_17930/2702680493.py:8: UserWarning: Could not infer format, so each element will be parsed individually, falling back to `dateutil`. To ensure parsing is consistent and as-expected, please specify a format.\n",
      "  df = pd.read_csv(file_path, parse_dates=time_columns)\n"
     ]
    }
   ],
   "source": [
    "import pandas as pd\n",
    "\n",
    "# Define the file path\n",
    "file_path = 'normalized_data.csv'\n",
    "\n",
    "# Read the CSV file and ensure datetime columns are parsed correctly\n",
    "time_columns = ['submit_time', 'eligible_time', 'start_time', 'end_time', 'wait_time']\n",
    "df = pd.read_csv(file_path, parse_dates=time_columns)\n",
    "\n",
    "# Display the first few rows of the dataframe\n",
    "# print(df_normalized.head())"
   ]
  },
  {
   "cell_type": "code",
   "execution_count": 26,
   "metadata": {},
   "outputs": [
    {
     "name": "stdout",
     "output_type": "stream",
     "text": [
      "        job_id      run_time  run_time_z\n",
      "2089      2090  17031.873112    3.028612\n",
      "4293      4294  17097.918964    3.046320\n",
      "4340      4341  17048.328616    3.033024\n",
      "4410      4411  17067.002660    3.038031\n",
      "5125      5126  17066.137014    3.037799\n",
      "...        ...           ...         ...\n",
      "120036  120037  16962.907360    3.010121\n",
      "125025  125026  16945.106493    3.005348\n",
      "131119  131120  16991.386770    3.017757\n",
      "139282  139283  17053.830807    3.034499\n",
      "188637  188638  16925.192562    3.000009\n",
      "\n",
      "[69 rows x 3 columns]\n",
      "Original dataset size: 190827\n",
      "Cleaned dataset size: 190758\n",
      "\n",
      "First few rows of cleaned dataset:\n",
      "   job_id      run_time\n",
      "0       1   8669.464517\n",
      "1       2   7388.687564\n",
      "2       3   8201.023267\n",
      "3       4  13302.112705\n",
      "4       5   1651.941251\n"
     ]
    }
   ],
   "source": [
    "import scipy.stats as stats\n",
    "df['run_time_z'] = stats.zscore(df['run_time'])\n",
    "extreme_jobs = df[df['run_time_z'].abs() > 3]\n",
    "print(extreme_jobs[['job_id', 'run_time', 'run_time_z']])\n",
    "\n",
    "# First remove the outliers (keeping only jobs with z-score <= 3)\n",
    "df_clean = df[df['run_time_z'].abs() <= 3].copy()\n",
    "\n",
    "# Reset the index to get sequential numbering\n",
    "df_clean = df_clean.reset_index(drop=True)\n",
    "\n",
    "# Create new sequential job_ids (starting from 1)\n",
    "df_clean['job_id'] = df_clean.index + 1\n",
    "\n",
    "# If you want to verify the changes:\n",
    "print(f\"Original dataset size: {len(df)}\")\n",
    "print(f\"Cleaned dataset size: {len(df_clean)}\")\n",
    "print(\"\\nFirst few rows of cleaned dataset:\")\n",
    "print(df_clean[['job_id', 'run_time']].head())"
   ]
  },
  {
   "cell_type": "code",
   "execution_count": 29,
   "metadata": {},
   "outputs": [
    {
     "data": {
      "text/plain": [
       "<Axes: >"
      ]
     },
     "execution_count": 29,
     "metadata": {},
     "output_type": "execute_result"
    },
    {
     "data": {
      "image/png": "[encoded data removed]",
      "text/plain": [
       "<Figure size 640x480 with 1 Axes>"
      ]
     },
     "metadata": {},
     "output_type": "display_data"
    }
   ],
   "source": [
    "df_clean['run_time'].hist(bins=50)\n",
    "# plt.title('Distribution of Run Time')"
   ]
  },
  {
   "cell_type": "code",
   "execution_count": 28,
   "metadata": {},
   "outputs": [
    {
     "name": "stderr",
     "output_type": "stream",
     "text": [
      "/tmp/ipykernel_17930/3303392905.py:6: FutureWarning: 'T' is deprecated and will be removed in a future version, please use 'min' instead.\n",
      "  df['minute'] = df['submit_time'].dt.floor('T')\n"
     ]
    },
    {
     "name": "stdout",
     "output_type": "stream",
     "text": [
      "Original dataset size: 190827\n",
      "Sampled dataset size: 121521\n",
      "\n",
      "Jobs per minute statistics:\n",
      "Before sampling:\n",
      "count    50494.000000\n",
      "mean         3.779201\n",
      "std         17.264504\n",
      "min          1.000000\n",
      "25%          1.000000\n",
      "50%          1.000000\n",
      "75%          3.000000\n",
      "max       1304.000000\n",
      "dtype: float64\n",
      "\n",
      "After sampling:\n",
      "count    50494.000000\n",
      "mean         2.406642\n",
      "std          2.308404\n",
      "min          1.000000\n",
      "25%          1.000000\n",
      "50%          1.000000\n",
      "75%          3.000000\n",
      "max         10.000000\n",
      "dtype: float64\n"
     ]
    },
    {
     "name": "stderr",
     "output_type": "stream",
     "text": [
      "/tmp/ipykernel_17930/3303392905.py:50: FutureWarning: 'T' is deprecated and will be removed in a future version, please use 'min' instead.\n",
      "  jobs_per_minute_before = df.groupby(df['submit_time'].dt.floor('T')).size()\n",
      "/tmp/ipykernel_17930/3303392905.py:51: FutureWarning: 'T' is deprecated and will be removed in a future version, please use 'min' instead.\n",
      "  jobs_per_minute_after = df_sampled.groupby(df_sampled['submit_time'].dt.floor('T')).size()\n"
     ]
    }
   ],
   "source": [
    "import pandas as pd\n",
    "import numpy as np\n",
    "\n",
    "def sample_high_volume_minutes(df, sample_size=7, threshold_percentile=95):\n",
    "    # Convert submit_time to minute-level granularity\n",
    "    df['minute'] = df['submit_time'].dt.floor('T')\n",
    "    \n",
    "    # Count jobs per minute\n",
    "    jobs_per_minute = df['minute'].value_counts()\n",
    "    \n",
    "    # Define high-volume threshold (e.g., 95th percentile of job counts)\n",
    "    threshold = np.percentile(jobs_per_minute.values, threshold_percentile)\n",
    "    \n",
    "    # Initialize list to store sampled jobs\n",
    "    sampled_jobs = []\n",
    "    \n",
    "    # Group by minute and process each group\n",
    "    for minute, group in df.groupby('minute'):\n",
    "        if len(group) > threshold:\n",
    "            # If high-volume minute, take random sample\n",
    "            sampled = group.sample(n=min(sample_size, len(group)), random_state=42)\n",
    "            sampled_jobs.append(sampled)\n",
    "        else:\n",
    "            # If normal volume, keep all jobs\n",
    "            sampled_jobs.append(group)\n",
    "    \n",
    "    # Combine all sampled jobs\n",
    "    df_sampled = pd.concat(sampled_jobs)\n",
    "    \n",
    "    # Sort by submit time and reset index\n",
    "    df_sampled = df_sampled.sort_values('submit_time').reset_index(drop=True)\n",
    "    \n",
    "    # Create new sequential job IDs\n",
    "    df_sampled['job_id'] = df_sampled.index + 1\n",
    "    \n",
    "    return df_sampled\n",
    "\n",
    "# Apply the sampling\n",
    "df_sampled = sample_high_volume_minutes(\n",
    "    df,\n",
    "    sample_size=7,  # Number of jobs to keep per high-volume minute\n",
    "    threshold_percentile=95  # Define high-volume as top 5% busy minutes\n",
    ")\n",
    "\n",
    "# Print statistics\n",
    "print(f\"Original dataset size: {len(df)}\")\n",
    "print(f\"Sampled dataset size: {len(df_sampled)}\")\n",
    "\n",
    "# Get distribution of jobs per minute before and after\n",
    "jobs_per_minute_before = df.groupby(df['submit_time'].dt.floor('T')).size()\n",
    "jobs_per_minute_after = df_sampled.groupby(df_sampled['submit_time'].dt.floor('T')).size()\n",
    "\n",
    "print(\"\\nJobs per minute statistics:\")\n",
    "print(\"Before sampling:\")\n",
    "print(jobs_per_minute_before.describe())\n",
    "print(\"\\nAfter sampling:\")\n",
    "print(jobs_per_minute_after.describe())"
   ]
  },
  {
   "cell_type": "code",
   "execution_count": 30,
   "metadata": {},
   "outputs": [],
   "source": [
    "df_sampled.to_csv('normalized_data.csv', index=False, date_format='%Y-%m-%d %H:%M:%S')"
   ]
  },
  {
   "cell_type": "markdown",
   "metadata": {},
   "source": [
    "# job submit time data cleaning"
   ]
  },
  {
   "cell_type": "code",
   "execution_count": 5,
   "metadata": {},
   "outputs": [
    {
     "name": "stderr",
     "output_type": "stream",
     "text": [
      "/tmp/ipykernel_27777/688705141.py:8: UserWarning: Could not infer format, so each element will be parsed individually, falling back to `dateutil`. To ensure parsing is consistent and as-expected, please specify a format.\n",
      "  df = pd.read_csv(file_path, parse_dates=time_columns)\n"
     ]
    }
   ],
   "source": [
    "import pandas as pd\n",
    "# --- Data Loading and Preprocessing ---\n",
    "\n",
    "file_path = '/home/abrar/Desktop/Code/Temporal HPC/normalized_data.csv'\n",
    "\n",
    "# Load data\n",
    "time_columns = ['submit_time', 'eligible_time', 'start_time', 'end_time', 'wait_time']\n",
    "df = pd.read_csv(file_path, parse_dates=time_columns)"
   ]
  },
  {
   "cell_type": "code",
   "execution_count": 7,
   "metadata": {},
   "outputs": [
    {
     "name": "stdout",
     "output_type": "stream",
     "text": [
      "160 DatetimeIndex(['2020-05-06 15:55:59', '2020-05-07 15:55:59',\n",
      "               '2020-05-08 15:55:59', '2020-05-09 15:55:59',\n",
      "               '2020-05-10 15:55:59', '2020-05-11 15:55:59',\n",
      "               '2020-05-12 15:55:59', '2020-05-13 15:55:59',\n",
      "               '2020-05-14 15:55:59', '2020-05-15 15:55:59',\n",
      "               ...\n",
      "               '2020-10-03 15:55:59', '2020-10-04 15:55:59',\n",
      "               '2020-10-05 15:55:59', '2020-10-06 15:55:59',\n",
      "               '2020-10-07 15:55:59', '2020-10-08 15:55:59',\n",
      "               '2020-10-09 15:55:59', '2020-10-10 15:55:59',\n",
      "               '2020-10-11 15:55:59', '2020-10-12 15:55:59'],\n",
      "              dtype='datetime64[ns]', length=160, freq='D')\n"
     ]
    }
   ],
   "source": [
    "# Finiding missing dates\n",
    "\n",
    "import pandas as pd\n",
    "\n",
    "def find_missing_dates(df):\n",
    "    # Ensure the submit_time column is in datetime format\n",
    "    df['submit_time'] = pd.to_datetime(df['submit_time'])\n",
    "\n",
    "    # Find the start and end dates\n",
    "    start_date = df['submit_time'].min()\n",
    "    end_date = df['submit_time'].max()\n",
    "\n",
    "    # Create a date range with all dates between start and end dates\n",
    "    date_range = pd.date_range(start=start_date, end=end_date)\n",
    "\n",
    "    # Find missing dates by taking the difference between the date range and the unique submit_time values\n",
    "    missing_dates = date_range[~date_range.isin(df['submit_time'].unique())]\n",
    "\n",
    "    return missing_dates\n",
    "\n",
    "missing_dates = find_missing_dates(df)\n",
    "print(len(missing_dates), missing_dates)"
   ]
  },
  {
   "cell_type": "code",
   "execution_count": 4,
   "metadata": {},
   "outputs": [
    {
     "name": "stdout",
     "output_type": "stream",
     "text": [
      "Start Date: 2022-01-01 00:00:00\n",
      "End Date: 2022-01-05 00:00:00\n"
     ]
    }
   ],
   "source": [
    "start_date = df['submit_time'].min()\n",
    "end_date = df['submit_time'].max()\n",
    "print(\"Start Date:\", start_date)\n",
    "print(\"End Date:\", end_date)"
   ]
  },
  {
   "cell_type": "code",
   "execution_count": 10,
   "metadata": {},
   "outputs": [
    {
     "name": "stdout",
     "output_type": "stream",
     "text": [
      "All gaps have been filled successfully!\n",
      "Original records: 191315\n",
      "Records after filling gaps: 390134\n"
     ]
    }
   ],
   "source": [
    "import pandas as pd\n",
    "import numpy as np\n",
    "from datetime import timedelta\n",
    "\n",
    "def fill_date_gaps(df):\n",
    "    \"\"\"\n",
    "    Fill gaps in submit_time dates and generate representative data for other columns.\n",
    "    \n",
    "    Parameters:\n",
    "    df (pd.DataFrame): Input DataFrame with HPC job data\n",
    "    \n",
    "    Returns:\n",
    "    pd.DataFrame: DataFrame with filled gaps and generated data\n",
    "    \"\"\"\n",
    "    # Create date range from min to max submit_time\n",
    "    min_date = df['submit_time'].min()\n",
    "    max_date = df['submit_time'].max()\n",
    "    complete_dates = pd.date_range(start=min_date, end=max_date, freq='D')\n",
    "    \n",
    "    # Find missing dates\n",
    "    existing_dates = pd.to_datetime(df['submit_time'].dt.date).unique()\n",
    "    missing_dates = pd.DatetimeIndex(set(complete_dates) - set(existing_dates))\n",
    "    \n",
    "    if len(missing_dates) == 0:\n",
    "        return df\n",
    "    \n",
    "    # Create synthetic data for missing dates\n",
    "    synthetic_records = []\n",
    "    \n",
    "    for missing_date in missing_dates:\n",
    "        # Get the average number of jobs per day in the original data\n",
    "        jobs_per_day = df.groupby(df['submit_time'].dt.date).size().mean()\n",
    "        num_synthetic_jobs = int(np.random.normal(jobs_per_day, jobs_per_day * 0.1))  # Add some variation\n",
    "        num_synthetic_jobs = max(1, num_synthetic_jobs)  # Ensure at least one job\n",
    "        \n",
    "        for _ in range(num_synthetic_jobs):\n",
    "            # Create a new record\n",
    "            synthetic_record = {}\n",
    "            \n",
    "            # Generate submit_time within the missing date\n",
    "            synthetic_record['submit_time'] = pd.Timestamp(missing_date) + pd.Timedelta(\n",
    "                seconds=np.random.randint(0, 86400)  # Random time within the day\n",
    "            )\n",
    "            \n",
    "            # Generate representative data for other columns\n",
    "            for column in df.columns:\n",
    "                if column == 'submit_time':\n",
    "                    continue\n",
    "                    \n",
    "                if column == 'job_id':\n",
    "                    # Generate unique job ID\n",
    "                    synthetic_record[column] = df['job_id'].max() + len(synthetic_records) + 1\n",
    "                    \n",
    "                elif df[column].dtype == 'datetime64[ns]':\n",
    "                    # Handle other datetime columns relative to submit_time\n",
    "                    if column == 'eligible_time':\n",
    "                        delay = pd.Timedelta(seconds=np.random.choice(\n",
    "                            (df['eligible_time'] - df['submit_time']).dt.total_seconds()\n",
    "                        ))\n",
    "                        synthetic_record[column] = synthetic_record['submit_time'] + delay\n",
    "                    elif column == 'start_time':\n",
    "                        delay = pd.Timedelta(seconds=np.random.choice(\n",
    "                            (df['start_time'] - df['eligible_time']).dt.total_seconds()\n",
    "                        ))\n",
    "                        synthetic_record[column] = synthetic_record['eligible_time'] + delay\n",
    "                    elif column == 'end_time':\n",
    "                        runtime = np.random.choice(df['run_time'])\n",
    "                        synthetic_record[column] = synthetic_record['start_time'] + pd.Timedelta(seconds=runtime)\n",
    "                \n",
    "                elif pd.api.types.is_numeric_dtype(df[column].dtype):\n",
    "                    # Generate numeric values based on distribution of existing data\n",
    "                    mean = df[column].mean()\n",
    "                    std = df[column].std()\n",
    "                    if pd.api.types.is_integer_dtype(df[column].dtype):\n",
    "                        value = int(np.random.normal(mean, std))\n",
    "                        # Ensure non-negative for counts/allocations\n",
    "                        value = max(0, value)\n",
    "                        synthetic_record[column] = value\n",
    "                    else:\n",
    "                        value = np.random.normal(mean, std)\n",
    "                        # Ensure non-negative for measurements\n",
    "                        value = max(0, value)\n",
    "                        synthetic_record[column] = value\n",
    "                \n",
    "                elif pd.api.types.is_object_dtype(df[column].dtype):\n",
    "                    # Sample categorical values based on their frequency\n",
    "                    synthetic_record[column] = np.random.choice(\n",
    "                        df[column].dropna().unique(),\n",
    "                        p=df[column].value_counts(normalize=True).values\n",
    "                    )\n",
    "                \n",
    "            synthetic_records.append(synthetic_record)\n",
    "    \n",
    "    # Create DataFrame with synthetic records\n",
    "    synthetic_df = pd.DataFrame(synthetic_records)\n",
    "    \n",
    "    # Combine original and synthetic data\n",
    "    combined_df = pd.concat([df, synthetic_df], ignore_index=True)\n",
    "    \n",
    "    # Sort by submit_time\n",
    "    combined_df = combined_df.sort_values('submit_time').reset_index(drop=True)\n",
    "    \n",
    "    return combined_df\n",
    "\n",
    "def verify_gaps(df):\n",
    "    \"\"\"\n",
    "    Verify that there are no gaps in the date range.\n",
    "    \n",
    "    Parameters:\n",
    "    df (pd.DataFrame): Input DataFrame\n",
    "    \n",
    "    Returns:\n",
    "    bool: True if no gaps, False otherwise\n",
    "    \"\"\"\n",
    "    date_range = pd.date_range(\n",
    "        start=df['submit_time'].min().date(),\n",
    "        end=df['submit_time'].max().date(),\n",
    "        freq='D'\n",
    "    )\n",
    "    existing_dates = pd.to_datetime(df['submit_time'].dt.date).unique()\n",
    "    missing_dates = set(date_range) - set(existing_dates)\n",
    "    return len(missing_dates) == 0\n",
    "\n",
    "# Usage example:\n",
    "\n",
    "# Read your dataset\n",
    "df = pd.read_csv('normalized_data.csv', parse_dates=['submit_time', 'eligible_time', 'start_time', 'end_time'])\n",
    "\n",
    "# Fill gaps in the dataset\n",
    "df_filled = fill_date_gaps(df)\n",
    "\n",
    "# Verify no gaps remain\n",
    "if verify_gaps(df_filled):\n",
    "    print(\"All gaps have been filled successfully!\")\n",
    "else:\n",
    "    print(\"Some gaps still remain in the dataset.\")\n",
    "\n",
    "# Check the number of added records\n",
    "print(f\"Original records: {len(df)}\")\n",
    "print(f\"Records after filling gaps: {len(df_filled)}\")"
   ]
  },
  {
   "cell_type": "code",
   "execution_count": 12,
   "metadata": {},
   "outputs": [
    {
     "data": {
      "image/png": "[encoded data removed]",
      "text/plain": [
       "<Figure size 640x480 with 1 Axes>"
      ]
     },
     "metadata": {},
     "output_type": "display_data"
    }
   ],
   "source": [
    "import matplotlib.pyplot as plt\n",
    "\n",
    "df_filled['mean_node_power'].plot.hist(bins=50)\n",
    "plt.title('Distribution of Mean Node Power')\n",
    "plt.xlabel('Normalized Mean Node Power')\n",
    "plt.ylabel('Frequency')\n",
    "plt.show()"
   ]
  },
  {
   "cell_type": "code",
   "execution_count": 13,
   "metadata": {},
   "outputs": [
    {
     "data": {
      "image/png": "[encoded data removed]",
      "text/plain": [
       "<Figure size 640x480 with 1 Axes>"
      ]
     },
     "metadata": {},
     "output_type": "display_data"
    }
   ],
   "source": [
    "import matplotlib.pyplot as plt\n",
    "\n",
    "df_filled['run_time'].plot.hist(bins=50)\n",
    "plt.title('Distribution of Run Time')\n",
    "plt.xlabel('Normalized Run Time')\n",
    "plt.ylabel('Frequency')\n",
    "plt.show()"
   ]
  },
  {
   "cell_type": "code",
   "execution_count": 14,
   "metadata": {},
   "outputs": [
    {
     "data": {
      "image/png": "[encoded data removed]",
      "text/plain": [
       "<Figure size 640x480 with 1 Axes>"
      ]
     },
     "metadata": {},
     "output_type": "display_data"
    }
   ],
   "source": [
    "import matplotlib.pyplot as plt\n",
    "\n",
    "df_filled['num_nodes_alloc'].plot.hist(bins=50)\n",
    "plt.title('Distribution of Run Time')\n",
    "plt.xlabel('Normalized Run Time')\n",
    "plt.ylabel('Frequency')\n",
    "plt.show()"
   ]
  },
  {
   "cell_type": "code",
   "execution_count": 23,
   "metadata": {},
   "outputs": [
    {
     "name": "stdout",
     "output_type": "stream",
     "text": [
      "<class 'pandas.core.frame.DataFrame'>\n",
      "RangeIndex: 390134 entries, 0 to 390133\n",
      "Data columns (total 20 columns):\n",
      " #   Column           Non-Null Count   Dtype          \n",
      "---  ------           --------------   -----          \n",
      " 0   job_id           390134 non-null  int64          \n",
      " 1   job_state        390134 non-null  object         \n",
      " 2   submit_time      390134 non-null  datetime64[ns] \n",
      " 3   eligible_time    390134 non-null  datetime64[ns] \n",
      " 4   start_time       390134 non-null  datetime64[ns] \n",
      " 5   wait_time        390134 non-null  float64        \n",
      " 6   cores_per_task   390134 non-null  int64          \n",
      " 7   shared           390134 non-null  int64          \n",
      " 8   priority         390134 non-null  int64          \n",
      " 9   num_tasks        390134 non-null  float64        \n",
      " 10  state_reason     390134 non-null  object         \n",
      " 11  num_cores_alloc  390134 non-null  int64          \n",
      " 12  num_nodes_alloc  390134 non-null  int64          \n",
      " 13  num_gpus_alloc   390134 non-null  int64          \n",
      " 14  mem_alloc        390134 non-null  int64          \n",
      " 15  mean_cpu_power   390134 non-null  float64        \n",
      " 16  mean_mem_power   390134 non-null  float64        \n",
      " 17  run_time         390134 non-null  timedelta64[ns]\n",
      " 18  mean_node_power  390134 non-null  float64        \n",
      " 19  end_time         390134 non-null  datetime64[ns] \n",
      "dtypes: datetime64[ns](4), float64(5), int64(8), object(2), timedelta64[ns](1)\n",
      "memory usage: 59.5+ MB\n"
     ]
    }
   ],
   "source": [
    "df_filled.info()    "
   ]
  },
  {
   "cell_type": "code",
   "execution_count": 20,
   "metadata": {},
   "outputs": [],
   "source": [
    "df_filled.drop(columns=['end_time'], inplace=True)\n",
    "df_filled['run_time'] = pd.to_timedelta(df_filled['run_time'], unit='s')\n",
    "df_filled['end_time'] = df_filled['start_time'] + df_filled['run_time']"
   ]
  },
  {
   "cell_type": "code",
   "execution_count": 22,
   "metadata": {},
   "outputs": [
    {
     "ename": "KeyError",
     "evalue": "'calc_run_time'",
     "output_type": "error",
     "traceback": [
      "\u001b[0;31m---------------------------------------------------------------------------\u001b[0m",
      "\u001b[0;31mKeyError\u001b[0m                                  Traceback (most recent call last)",
      "File \u001b[0;32m~/Desktop/Code/Temporal HPC/myenv/lib/python3.12/site-packages/pandas/core/indexes/base.py:3805\u001b[0m, in \u001b[0;36mIndex.get_loc\u001b[0;34m(self, key)\u001b[0m\n\u001b[1;32m   3804\u001b[0m \u001b[38;5;28;01mtry\u001b[39;00m:\n\u001b[0;32m-> 3805\u001b[0m     \u001b[38;5;28;01mreturn\u001b[39;00m \u001b[38;5;28;43mself\u001b[39;49m\u001b[38;5;241;43m.\u001b[39;49m\u001b[43m_engine\u001b[49m\u001b[38;5;241;43m.\u001b[39;49m\u001b[43mget_loc\u001b[49m\u001b[43m(\u001b[49m\u001b[43mcasted_key\u001b[49m\u001b[43m)\u001b[49m\n\u001b[1;32m   3806\u001b[0m \u001b[38;5;28;01mexcept\u001b[39;00m \u001b[38;5;167;01mKeyError\u001b[39;00m \u001b[38;5;28;01mas\u001b[39;00m err:\n",
      "File \u001b[0;32mindex.pyx:167\u001b[0m, in \u001b[0;36mpandas._libs.index.IndexEngine.get_loc\u001b[0;34m()\u001b[0m\n",
      "File \u001b[0;32mindex.pyx:196\u001b[0m, in \u001b[0;36mpandas._libs.index.IndexEngine.get_loc\u001b[0;34m()\u001b[0m\n",
      "File \u001b[0;32mpandas/_libs/hashtable_class_helper.pxi:7081\u001b[0m, in \u001b[0;36mpandas._libs.hashtable.PyObjectHashTable.get_item\u001b[0;34m()\u001b[0m\n",
      "File \u001b[0;32mpandas/_libs/hashtable_class_helper.pxi:7089\u001b[0m, in \u001b[0;36mpandas._libs.hashtable.PyObjectHashTable.get_item\u001b[0;34m()\u001b[0m\n",
      "\u001b[0;31mKeyError\u001b[0m: 'calc_run_time'",
      "\nThe above exception was the direct cause of the following exception:\n",
      "\u001b[0;31mKeyError\u001b[0m                                  Traceback (most recent call last)",
      "Cell \u001b[0;32mIn[22], line 3\u001b[0m\n\u001b[1;32m      1\u001b[0m df_run_time \u001b[38;5;241m=\u001b[39m df_filled[[\u001b[38;5;124m'\u001b[39m\u001b[38;5;124mstart_time\u001b[39m\u001b[38;5;124m'\u001b[39m, \u001b[38;5;124m'\u001b[39m\u001b[38;5;124mend_time\u001b[39m\u001b[38;5;124m'\u001b[39m, \u001b[38;5;124m'\u001b[39m\u001b[38;5;124mrun_time\u001b[39m\u001b[38;5;124m'\u001b[39m]]\u001b[38;5;241m.\u001b[39mcopy()\n\u001b[1;32m      2\u001b[0m df_run_time[\u001b[38;5;124m'\u001b[39m\u001b[38;5;124mcalc_run_time\u001b[39m\u001b[38;5;124m'\u001b[39m] \u001b[38;5;241m=\u001b[39m  df_filled[\u001b[38;5;124m'\u001b[39m\u001b[38;5;124mend_time\u001b[39m\u001b[38;5;124m'\u001b[39m] \u001b[38;5;241m-\u001b[39m df_filled[\u001b[38;5;124m'\u001b[39m\u001b[38;5;124mstart_time\u001b[39m\u001b[38;5;124m'\u001b[39m]\n\u001b[0;32m----> 3\u001b[0m df_run_time[\u001b[38;5;124m'\u001b[39m\u001b[38;5;124mcalc_run_time\u001b[39m\u001b[38;5;124m'\u001b[39m] \u001b[38;5;241m=\u001b[39m \u001b[43mdf_filled\u001b[49m\u001b[43m[\u001b[49m\u001b[38;5;124;43m'\u001b[39;49m\u001b[38;5;124;43mcalc_run_time\u001b[39;49m\u001b[38;5;124;43m'\u001b[39;49m\u001b[43m]\u001b[49m\u001b[38;5;241m.\u001b[39mdt\u001b[38;5;241m.\u001b[39mtotal_seconds()\n\u001b[1;32m      4\u001b[0m df_run_time[\u001b[38;5;124m'\u001b[39m\u001b[38;5;124mdiff\u001b[39m\u001b[38;5;124m'\u001b[39m] \u001b[38;5;241m=\u001b[39m df_run_time[\u001b[38;5;124m'\u001b[39m\u001b[38;5;124mrun_time\u001b[39m\u001b[38;5;124m'\u001b[39m] \u001b[38;5;241m-\u001b[39m df_run_time[\u001b[38;5;124m'\u001b[39m\u001b[38;5;124mcalc_run_time\u001b[39m\u001b[38;5;124m'\u001b[39m]\n\u001b[1;32m      5\u001b[0m \u001b[38;5;66;03m# df_run_time['diff'] = df_run_time['run_time'] - df_run_time['calc_run_time']\u001b[39;00m\n",
      "File \u001b[0;32m~/Desktop/Code/Temporal HPC/myenv/lib/python3.12/site-packages/pandas/core/frame.py:4102\u001b[0m, in \u001b[0;36mDataFrame.__getitem__\u001b[0;34m(self, key)\u001b[0m\n\u001b[1;32m   4100\u001b[0m \u001b[38;5;28;01mif\u001b[39;00m \u001b[38;5;28mself\u001b[39m\u001b[38;5;241m.\u001b[39mcolumns\u001b[38;5;241m.\u001b[39mnlevels \u001b[38;5;241m>\u001b[39m \u001b[38;5;241m1\u001b[39m:\n\u001b[1;32m   4101\u001b[0m     \u001b[38;5;28;01mreturn\u001b[39;00m \u001b[38;5;28mself\u001b[39m\u001b[38;5;241m.\u001b[39m_getitem_multilevel(key)\n\u001b[0;32m-> 4102\u001b[0m indexer \u001b[38;5;241m=\u001b[39m \u001b[38;5;28;43mself\u001b[39;49m\u001b[38;5;241;43m.\u001b[39;49m\u001b[43mcolumns\u001b[49m\u001b[38;5;241;43m.\u001b[39;49m\u001b[43mget_loc\u001b[49m\u001b[43m(\u001b[49m\u001b[43mkey\u001b[49m\u001b[43m)\u001b[49m\n\u001b[1;32m   4103\u001b[0m \u001b[38;5;28;01mif\u001b[39;00m is_integer(indexer):\n\u001b[1;32m   4104\u001b[0m     indexer \u001b[38;5;241m=\u001b[39m [indexer]\n",
      "File \u001b[0;32m~/Desktop/Code/Temporal HPC/myenv/lib/python3.12/site-packages/pandas/core/indexes/base.py:3812\u001b[0m, in \u001b[0;36mIndex.get_loc\u001b[0;34m(self, key)\u001b[0m\n\u001b[1;32m   3807\u001b[0m     \u001b[38;5;28;01mif\u001b[39;00m \u001b[38;5;28misinstance\u001b[39m(casted_key, \u001b[38;5;28mslice\u001b[39m) \u001b[38;5;129;01mor\u001b[39;00m (\n\u001b[1;32m   3808\u001b[0m         \u001b[38;5;28misinstance\u001b[39m(casted_key, abc\u001b[38;5;241m.\u001b[39mIterable)\n\u001b[1;32m   3809\u001b[0m         \u001b[38;5;129;01mand\u001b[39;00m \u001b[38;5;28many\u001b[39m(\u001b[38;5;28misinstance\u001b[39m(x, \u001b[38;5;28mslice\u001b[39m) \u001b[38;5;28;01mfor\u001b[39;00m x \u001b[38;5;129;01min\u001b[39;00m casted_key)\n\u001b[1;32m   3810\u001b[0m     ):\n\u001b[1;32m   3811\u001b[0m         \u001b[38;5;28;01mraise\u001b[39;00m InvalidIndexError(key)\n\u001b[0;32m-> 3812\u001b[0m     \u001b[38;5;28;01mraise\u001b[39;00m \u001b[38;5;167;01mKeyError\u001b[39;00m(key) \u001b[38;5;28;01mfrom\u001b[39;00m\u001b[38;5;250m \u001b[39m\u001b[38;5;21;01merr\u001b[39;00m\n\u001b[1;32m   3813\u001b[0m \u001b[38;5;28;01mexcept\u001b[39;00m \u001b[38;5;167;01mTypeError\u001b[39;00m:\n\u001b[1;32m   3814\u001b[0m     \u001b[38;5;66;03m# If we have a listlike key, _check_indexing_error will raise\u001b[39;00m\n\u001b[1;32m   3815\u001b[0m     \u001b[38;5;66;03m#  InvalidIndexError. Otherwise we fall through and re-raise\u001b[39;00m\n\u001b[1;32m   3816\u001b[0m     \u001b[38;5;66;03m#  the TypeError.\u001b[39;00m\n\u001b[1;32m   3817\u001b[0m     \u001b[38;5;28mself\u001b[39m\u001b[38;5;241m.\u001b[39m_check_indexing_error(key)\n",
      "\u001b[0;31mKeyError\u001b[0m: 'calc_run_time'"
     ]
    }
   ],
   "source": [
    "df_run_time = df_filled[['start_time', 'end_time', 'run_time']].copy()\n",
    "df_run_time['calc_run_time'] =  df_filled['end_time'] - df_filled['start_time']\n",
    "df_run_time['calc_run_time'] = df_filled['calc_run_time'].dt.total_seconds()\n",
    "df_run_time['diff'] = df_run_time['run_time'] - df_run_time['calc_run_time']\n",
    "# df_run_time['diff'] = df_run_time['run_time'] - df_run_time['calc_run_time']"
   ]
  },
  {
   "cell_type": "code",
   "execution_count": 15,
   "metadata": {},
   "outputs": [],
   "source": [
    "# Save DataFrame to CSV\n",
    "df_filled.to_csv('normalized_filled_data.csv', index=False, date_format='%Y-%m-%d %H:%M:%S')"
   ]
  },
  {
   "cell_type": "markdown",
   "metadata": {},
   "source": [
    "# Different form of normalization\n",
    "\n",
    "This does not filter down the dataset. Rather adds new columns of the normalized metrics\" "
   ]
  },
  {
   "cell_type": "code",
   "execution_count": 26,
   "metadata": {},
   "outputs": [
    {
     "name": "stdout",
     "output_type": "stream",
     "text": [
      "Normality test for power: ShapiroResult(statistic=np.float64(0.905472341852645), pvalue=np.float64(2.119825986448507e-124))\n",
      "Normality test for time: ShapiroResult(statistic=np.float64(0.9516095443201341), pvalue=np.float64(1.0790001338164083e-105))\n"
     ]
    },
    {
     "name": "stderr",
     "output_type": "stream",
     "text": [
      "/home/abrar/Desktop/Code/Temporal HPC/myenv/lib/python3.12/site-packages/scipy/stats/_axis_nan_policy.py:586: UserWarning: scipy.stats.shapiro: For N > 5000, computed p-value may not be accurate. Current N is 191315.\n",
      "  res = hypotest_fun_out(*samples, **kwds)\n"
     ]
    }
   ],
   "source": [
    "# First create normalized columns\n",
    "df['normalized_run_time'] = np.log(df['run_time'])\n",
    "df['normalized_power'] = np.log(df['mean_node_power'])\n",
    "\n",
    "# Then test normality\n",
    "from scipy import stats\n",
    "print(\"Normality test for power:\", stats.shapiro(df['normalized_power']))\n",
    "print(\"Normality test for time:\", stats.shapiro(df['normalized_run_time']))\n",
    "\n",
    "\n",
    "# df['normalized_run_time'] = np.log(df['normalized_run_time'])\n",
    "# df['normalized_power'] = np.log(df['mean_node_power'])"
   ]
  },
  {
   "cell_type": "code",
   "execution_count": 31,
   "metadata": {},
   "outputs": [
    {
     "name": "stdout",
     "output_type": "stream",
     "text": [
      "Normality test for power: ShapiroResult(statistic=np.float64(0.9038309582887434), pvalue=np.float64(6.682516639625073e-125))\n",
      "Normality test for time: ShapiroResult(statistic=np.float64(0.950501124882523), pvalue=np.float64(2.664427508973189e-106))\n"
     ]
    },
    {
     "name": "stderr",
     "output_type": "stream",
     "text": [
      "/home/abrar/Desktop/Code/Temporal HPC/myenv/lib/python3.12/site-packages/scipy/stats/_axis_nan_policy.py:586: UserWarning: scipy.stats.shapiro: For N > 5000, computed p-value may not be accurate. Current N is 191315.\n",
      "  res = hypotest_fun_out(*samples, **kwds)\n"
     ]
    }
   ],
   "source": [
    "from scipy import stats\n",
    "df['normalized_power'] = stats.boxcox(df['mean_node_power'])[0]\n",
    "df['normalized_run_time'] = stats.boxcox(df['run_time'])[0]\n",
    "\n",
    "# Test normality\n",
    "print(\"Normality test for power:\", stats.shapiro(df['normalized_power']))\n",
    "print(\"Normality test for time:\", stats.shapiro(df['normalized_run_time']))"
   ]
  },
  {
   "cell_type": "code",
   "execution_count": 34,
   "metadata": {},
   "outputs": [
    {
     "name": "stdout",
     "output_type": "stream",
     "text": [
      "Normality test for power: ShapiroResult(statistic=np.float64(0.9042381332431466), pvalue=np.float64(8.883905560019901e-125))\n",
      "Normality test for time: ShapiroResult(statistic=np.float64(0.9431056775697326), pvalue=np.float64(4.487711031964779e-110))\n"
     ]
    },
    {
     "name": "stderr",
     "output_type": "stream",
     "text": [
      "/home/abrar/Desktop/Code/Temporal HPC/myenv/lib/python3.12/site-packages/scipy/stats/_axis_nan_policy.py:586: UserWarning: scipy.stats.shapiro: For N > 5000, computed p-value may not be accurate. Current N is 191315.\n",
      "  res = hypotest_fun_out(*samples, **kwds)\n"
     ]
    }
   ],
   "source": [
    "from sklearn.preprocessing import PowerTransformer\n",
    "\n",
    "pt = PowerTransformer(method='yeo-johnson')\n",
    "df[['normalized_power', 'normalized_run_time']] = pt.fit_transform(df[['mean_node_power', 'run_time']])\n",
    "\n",
    "# Test normality\n",
    "print(\"Normality test for power:\", stats.shapiro(df['normalized_power']))\n",
    "print(\"Normality test for time:\", stats.shapiro(df['normalized_run_time']))"
   ]
  },
  {
   "cell_type": "code",
   "execution_count": 37,
   "metadata": {},
   "outputs": [
    {
     "name": "stdout",
     "output_type": "stream",
     "text": [
      "Normality test for power: ShapiroResult(statistic=np.float64(0.9991311283035449), pvalue=np.float64(6.762103311319103e-26))\n",
      "Normality test for time: ShapiroResult(statistic=np.float64(0.7599448988511768), pvalue=np.float64(5.148566029768089e-153))\n"
     ]
    },
    {
     "name": "stderr",
     "output_type": "stream",
     "text": [
      "/home/abrar/Desktop/Code/Temporal HPC/myenv/lib/python3.12/site-packages/scipy/stats/_axis_nan_policy.py:586: UserWarning: scipy.stats.shapiro: For N > 5000, computed p-value may not be accurate. Current N is 191315.\n",
      "  res = hypotest_fun_out(*samples, **kwds)\n"
     ]
    }
   ],
   "source": [
    "from sklearn.preprocessing import QuantileTransformer\n",
    "\n",
    "qt = QuantileTransformer(output_distribution='normal')\n",
    "df[['normalized_power', 'normalized_run_time']] = qt.fit_transform(df[['mean_node_power', 'run_time']])\n",
    "\n",
    "# Test normality\n",
    "print(\"Normality test for power:\", stats.shapiro(df['normalized_power']))\n",
    "print(\"Normality test for time:\", stats.shapiro(df['normalized_run_time']))"
   ]
  },
  {
   "cell_type": "code",
   "execution_count": 41,
   "metadata": {},
   "outputs": [
    {
     "name": "stdout",
     "output_type": "stream",
     "text": [
      "Normality test for power: ShapiroResult(statistic=np.float64(0.9990878400454394), pvalue=np.float64(1.5746894327589537e-26))\n",
      "Normality test for time: ShapiroResult(statistic=np.float64(0.756827764791606), pvalue=np.float64(1.9702213971603499e-153))\n"
     ]
    },
    {
     "name": "stderr",
     "output_type": "stream",
     "text": [
      "/home/abrar/Desktop/Code/Temporal HPC/myenv/lib/python3.12/site-packages/scipy/stats/_axis_nan_policy.py:586: UserWarning: scipy.stats.shapiro: For N > 5000, computed p-value may not be accurate. Current N is 191315.\n",
      "  res = hypotest_fun_out(*samples, **kwds)\n"
     ]
    }
   ],
   "source": [
    "from sklearn.preprocessing import RobustScaler, QuantileTransformer\n",
    "\n",
    "# Two-step transformation\n",
    "rs = RobustScaler()\n",
    "qt = QuantileTransformer(output_distribution='normal')\n",
    "\n",
    "# Transform power\n",
    "scaled_power = rs.fit_transform(df[['mean_node_power']])\n",
    "df['normalized_power'] = qt.fit_transform(scaled_power)\n",
    "\n",
    "# Transform time\n",
    "scaled_time = rs.fit_transform(df[['run_time']])\n",
    "df['normalized_run_time'] = qt.fit_transform(scaled_time)\n",
    "\n",
    "print(\"Normality test for power:\", stats.shapiro(df['normalized_power']))\n",
    "print(\"Normality test for time:\", stats.shapiro(df['normalized_run_time']))"
   ]
  },
  {
   "cell_type": "code",
   "execution_count": 55,
   "metadata": {},
   "outputs": [
    {
     "name": "stdout",
     "output_type": "stream",
     "text": [
      "Normality test for power: ShapiroResult(statistic=np.float64(0.9995223151358036), pvalue=np.float64(9.004718509508408e-19))\n",
      "Normality test for time: ShapiroResult(statistic=np.float64(0.973810279059932), pvalue=np.float64(6.677877451336507e-90))\n"
     ]
    },
    {
     "name": "stderr",
     "output_type": "stream",
     "text": [
      "/home/abrar/Desktop/Code/Temporal HPC/myenv/lib/python3.12/site-packages/scipy/stats/_axis_nan_policy.py:586: UserWarning: scipy.stats.shapiro: For N > 5000, computed p-value may not be accurate. Current N is 191315.\n",
      "  res = hypotest_fun_out(*samples, **kwds)\n"
     ]
    }
   ],
   "source": [
    "from scipy.stats import norm\n",
    "from scipy.stats import rankdata\n",
    "\n",
    "def gaussian_copula_transform(x):\n",
    "    ranks = rankdata(x)\n",
    "    u = ranks / (len(x) + 1)  # Uniform scores\n",
    "    return norm.ppf(u)  # Convert to normal\n",
    "\n",
    "df['normalized_power'] = gaussian_copula_transform(df['mean_node_power'])\n",
    "df['normalized_run_time'] = gaussian_copula_transform(df['run_time'])\n",
    "\n",
    "print(\"Normality test for power:\", stats.shapiro(df['normalized_power']))\n",
    "print(\"Normality test for time:\", stats.shapiro(df['normalized_run_time']))"
   ]
  },
  {
   "cell_type": "code",
   "execution_count": 49,
   "metadata": {},
   "outputs": [
    {
     "name": "stdout",
     "output_type": "stream",
     "text": [
      "Normality test for power: ShapiroResult(statistic=np.float64(0.9995229921096012), pvalue=np.float64(9.330482092787228e-19))\n",
      "Normality test for time: ShapiroResult(statistic=np.float64(0.9738099424644983), pvalue=np.float64(6.673005462905884e-90))\n"
     ]
    },
    {
     "name": "stderr",
     "output_type": "stream",
     "text": [
      "/home/abrar/Desktop/Code/Temporal HPC/myenv/lib/python3.12/site-packages/scipy/stats/_axis_nan_policy.py:586: UserWarning: scipy.stats.shapiro: For N > 5000, computed p-value may not be accurate. Current N is 191315.\n",
      "  res = hypotest_fun_out(*samples, **kwds)\n"
     ]
    }
   ],
   "source": [
    "def rint_transform(x):\n",
    "    n = len(x)\n",
    "    r = rankdata(x)\n",
    "    return norm.ppf((r - 0.5) / n)\n",
    "\n",
    "df['normalized_power'] = rint_transform(df['mean_node_power'])\n",
    "df['normalized_run_time'] = rint_transform(df['run_time'])\n",
    "\n",
    "print(\"Normality test for power:\", stats.shapiro(df['normalized_power']))\n",
    "print(\"Normality test for time:\", stats.shapiro(df['normalized_run_time']))"
   ]
  },
  {
   "cell_type": "code",
   "execution_count": 58,
   "metadata": {},
   "outputs": [
    {
     "name": "stdout",
     "output_type": "stream",
     "text": [
      "Normality test for power: ShapiroResult(statistic=np.float64(0.9105766574224698), pvalue=np.float64(8.629598847848804e-123))\n",
      "Normality test for time: ShapiroResult(statistic=np.float64(0.9380246052615572), pvalue=np.float64(1.9981597407763038e-112))\n"
     ]
    },
    {
     "name": "stderr",
     "output_type": "stream",
     "text": [
      "/home/abrar/Desktop/Code/Temporal HPC/myenv/lib/python3.12/site-packages/scipy/stats/_axis_nan_policy.py:586: UserWarning: scipy.stats.shapiro: For N > 5000, computed p-value may not be accurate. Current N is 191315.\n",
      "  res = hypotest_fun_out(*samples, **kwds)\n"
     ]
    }
   ],
   "source": [
    "def modified_box_cox(x):\n",
    "    offset = abs(min(x)) + 1  # Ensure all values are positive\n",
    "    transformed = stats.boxcox(x + offset)\n",
    "    return (transformed[0] - transformed[0].mean()) / transformed[0].std()\n",
    "\n",
    "df['normalized_power'] = modified_box_cox(df['mean_node_power'])\n",
    "df['normalized_run_time'] = modified_box_cox(df['run_time'])\n",
    "\n",
    "print(\"Normality test for power:\", stats.shapiro(df['normalized_power']))\n",
    "print(\"Normality test for time:\", stats.shapiro(df['normalized_run_time']))"
   ]
  },
  {
   "cell_type": "code",
   "execution_count": 70,
   "metadata": {},
   "outputs": [
    {
     "name": "stdout",
     "output_type": "stream",
     "text": [
      "Normality test after filtering: ShapiroResult(statistic=np.float64(0.9796187214866106), pvalue=np.float64(2.1287942884053885e-82))\n"
     ]
    },
    {
     "name": "stderr",
     "output_type": "stream",
     "text": [
      "/home/abrar/Desktop/Code/Temporal HPC/myenv/lib/python3.12/site-packages/scipy/stats/_axis_nan_policy.py:586: UserWarning: scipy.stats.shapiro: For N > 5000, computed p-value may not be accurate. Current N is 175294.\n",
      "  res = hypotest_fun_out(*samples, **kwds)\n"
     ]
    }
   ],
   "source": [
    "# Create normalized power column\n",
    "df['normalized_power'] = gaussian_copula_transform(df['mean_node_power'])\n",
    "\n",
    "# Define bounds for what you consider uniform distribution\n",
    "# You might need to adjust these thresholds based on your needs\n",
    "lower_bound = df['normalized_power'].quantile(0.1)\n",
    "upper_bound = df['normalized_power'].quantile(0.9)\n",
    "\n",
    "# Filter dataset\n",
    "df_filtered = df[(df['normalized_power'] >= lower_bound) & \n",
    "                 (df['normalized_power'] <= upper_bound)]\n",
    "\n",
    "# Verify normality\n",
    "print(\"Normality test after filtering:\", \n",
    "      stats.shapiro(df_filtered['normalized_power']))"
   ]
  },
  {
   "cell_type": "code",
   "execution_count": 81,
   "metadata": {},
   "outputs": [
    {
     "name": "stdout",
     "output_type": "stream",
     "text": [
      "Normality test after filtering: ShapiroResult(statistic=np.float64(0.9605987728568839), pvalue=np.float64(1.002647114251484e-87))\n"
     ]
    },
    {
     "name": "stderr",
     "output_type": "stream",
     "text": [
      "/home/abrar/Desktop/Code/Temporal HPC/myenv/lib/python3.12/site-packages/scipy/stats/_axis_nan_policy.py:586: UserWarning: scipy.stats.shapiro: For N > 5000, computed p-value may not be accurate. Current N is 97387.\n",
      "  res = hypotest_fun_out(*samples, **kwds)\n"
     ]
    }
   ],
   "source": [
    "# Create normalized power column\n",
    "df['normalized_run_time'] = gaussian_copula_transform(df['run_time'])\n",
    "\n",
    "# Define bounds for what you consider uniform distribution\n",
    "# You might need to adjust these thresholds based on your needs\n",
    "lower_bound = df['normalized_run_time'].quantile(0.2)\n",
    "upper_bound = df['normalized_run_time'].quantile(0.7)\n",
    "\n",
    "# Filter dataset\n",
    "df_filtered = df[(df['normalized_run_time'] >= lower_bound) & \n",
    "                 (df['normalized_run_time'] <= upper_bound)]\n",
    "\n",
    "# Verify normality\n",
    "print(\"Normality test after filtering:\", \n",
    "      stats.shapiro(df_filtered['normalized_run_time']))"
   ]
  },
  {
   "cell_type": "code",
   "execution_count": 82,
   "metadata": {},
   "outputs": [
    {
     "name": "stdout",
     "output_type": "stream",
     "text": [
      "<class 'pandas.core.frame.DataFrame'>\n",
      "Index: 97387 entries, 16 to 191314\n",
      "Data columns (total 24 columns):\n",
      " #   Column               Non-Null Count  Dtype         \n",
      "---  ------               --------------  -----         \n",
      " 0   job_id               97387 non-null  int64         \n",
      " 1   job_state            97387 non-null  object        \n",
      " 2   submit_time          97387 non-null  datetime64[ns]\n",
      " 3   eligible_time        97387 non-null  datetime64[ns]\n",
      " 4   start_time           97387 non-null  datetime64[ns]\n",
      " 5   end_time             97387 non-null  datetime64[ns]\n",
      " 6   run_time             97387 non-null  int64         \n",
      " 7   wait_time            97387 non-null  object        \n",
      " 8   cores_per_task       97387 non-null  int64         \n",
      " 9   shared               97387 non-null  int64         \n",
      " 10  partition            97387 non-null  int64         \n",
      " 11  priority             97387 non-null  int64         \n",
      " 12  num_tasks            97387 non-null  float64       \n",
      " 13  state_reason         97387 non-null  object        \n",
      " 14  num_cores_alloc      97387 non-null  int64         \n",
      " 15  num_nodes_alloc      97387 non-null  int64         \n",
      " 16  num_gpus_alloc       97387 non-null  int64         \n",
      " 17  mem_alloc            97387 non-null  int64         \n",
      " 18  mean_node_power      97387 non-null  float64       \n",
      " 19  mean_cpu_power       97387 non-null  float64       \n",
      " 20  mean_mem_power       97387 non-null  float64       \n",
      " 21  normalized_run_time  97387 non-null  float64       \n",
      " 22  normalized_power     97387 non-null  float64       \n",
      " 23  normalized_time      97387 non-null  float64       \n",
      "dtypes: datetime64[ns](4), float64(7), int64(10), object(3)\n",
      "memory usage: 18.6+ MB\n"
     ]
    }
   ],
   "source": [
    "df_filtered.info()"
   ]
  },
  {
   "cell_type": "code",
   "execution_count": 83,
   "metadata": {},
   "outputs": [
    {
     "data": {
      "image/png": "[encoded data removed]",
      "text/plain": [
       "<Figure size 640x480 with 1 Axes>"
      ]
     },
     "metadata": {},
     "output_type": "display_data"
    }
   ],
   "source": [
    "import matplotlib.pyplot as plt\n",
    "\n",
    "df_filtered['mean_node_power'].plot.hist(bins=50)\n",
    "plt.title('Distribution of Mean Node Power')\n",
    "plt.xlabel('Normalized Mean Node Power')\n",
    "plt.ylabel('Frequency')\n",
    "plt.show()"
   ]
  },
  {
   "cell_type": "code",
   "execution_count": 84,
   "metadata": {},
   "outputs": [
    {
     "data": {
      "image/png": "[encoded data removed]",
      "text/plain": [
       "<Figure size 640x480 with 1 Axes>"
      ]
     },
     "metadata": {},
     "output_type": "display_data"
    }
   ],
   "source": [
    "import matplotlib.pyplot as plt\n",
    "\n",
    "df_filtered['run_time'].plot.hist(bins=50)\n",
    "plt.title('Distribution of Mean Node Power')\n",
    "plt.xlabel('Normalized Mean Node Power')\n",
    "plt.ylabel('Frequency')\n",
    "plt.show()"
   ]
  },
  {
   "cell_type": "code",
   "execution_count": null,
   "metadata": {},
   "outputs": [],
   "source": []
  },
  {
   "cell_type": "code",
   "execution_count": 187,
   "metadata": {},
   "outputs": [],
   "source": [
    "# import matplotlib.pyplot as plt\n",
    "# import seaborn as sns\n",
    "# import pandas as pd\n",
    "# import numpy as np\n",
    "\n",
    "# # Assuming your DataFrame is named 'df'\n",
    "\n",
    "# def investigate_outliers(df, columns):\n",
    "#     \"\"\"\n",
    "#     Investigates potential outliers in specified columns of a DataFrame.\n",
    "\n",
    "#     Args:\n",
    "#         df: The pandas DataFrame.\n",
    "#         columns: A list of column names to investigate.\n",
    "#     \"\"\"\n",
    "\n",
    "#     for col in columns:\n",
    "#         print(f\"\\n----- Investigating {col} -----\")\n",
    "\n",
    "#         # Descriptive statistics\n",
    "#         print(df[col].describe())\n",
    "\n",
    "#         # Box plot\n",
    "#         plt.figure(figsize=(8, 4))\n",
    "#         sns.boxplot(x=df[col])\n",
    "#         plt.title(f\"Box Plot of {col}\")\n",
    "#         plt.show()\n",
    "\n",
    "#         # Histogram with KDE\n",
    "#         plt.figure(figsize=(8, 4))\n",
    "#         sns.histplot(df[col], kde=True, bins=50)\n",
    "#         plt.title(f\"Histogram of {col}\")\n",
    "#         plt.show()\n",
    "\n",
    "#         # Calculate IQR and identify potential outliers\n",
    "#         Q1 = df[col].quantile(0.25)\n",
    "#         Q3 = df[col].quantile(0.75)\n",
    "#         IQR = Q3 - Q1\n",
    "#         lower_bound = Q1 - 1.5 * IQR\n",
    "#         upper_bound = Q3 + 1.5 * IQR\n",
    "#         outliers = df[(df[col] < lower_bound) | (df[col] > upper_bound)]\n",
    "#         print(f\"\\nPotential outliers based on IQR method (>{upper_bound:.2f} or <{lower_bound:.2f}):\")\n",
    "#         print(outliers)\n",
    "\n",
    "# # Columns to investigate\n",
    "# cols_to_investigate = ['mean_node_power', 'mean_cpu_power', 'mean_mem_power']\n",
    "\n",
    "# # Perform the investigation\n",
    "# investigate_outliers(df, cols_to_investigate)"
   ]
  },
  {
   "cell_type": "code",
   "execution_count": 188,
   "metadata": {},
   "outputs": [],
   "source": [
    "# import pandas as pd\n",
    "# import numpy as np\n",
    "\n",
    "# def handle_outliers_and_skewness(df, columns, capping_percentile=0.995):\n",
    "#     \"\"\"\n",
    "#     Handles outliers by capping at a specified percentile and then applies a log transformation.\n",
    "\n",
    "#     Args:\n",
    "#         df: The pandas DataFrame.\n",
    "#         columns: A list of column names to process.\n",
    "#         capping_percentile: The percentile to use for capping outliers.\n",
    "#     \"\"\"\n",
    "\n",
    "#     df_processed = df.copy()  # Create a copy to avoid modifying the original DataFrame\n",
    "\n",
    "#     for col in columns:\n",
    "#         # Capping\n",
    "#         upper_limit = df_processed[col].quantile(capping_percentile)\n",
    "#         df_processed[col] = np.where(df_processed[col] > upper_limit, upper_limit, df_processed[col])\n",
    "\n",
    "#         # Log transformation\n",
    "#         df_processed[f\"{col}_log\"] = np.log1p(df_processed[col])\n",
    "\n",
    "#     return df_processed\n",
    "\n",
    "# # Columns to process\n",
    "# power_cols = ['mean_node_power', 'mean_cpu_power', 'mean_mem_power']\n",
    "\n",
    "# # Handle outliers and skewness\n",
    "# df_processed = handle_outliers_and_skewness(df, power_cols, capping_percentile=0.995)\n",
    "\n",
    "# # Now use 'mean_node_power_log', 'mean_cpu_power_log', and 'mean_mem_power_log' in your GNN training"
   ]
  },
  {
   "cell_type": "code",
   "execution_count": null,
   "metadata": {},
   "outputs": [],
   "source": []
  },
  {
   "cell_type": "code",
   "execution_count": null,
   "metadata": {},
   "outputs": [],
   "source": []
  },
  {
   "cell_type": "code",
   "execution_count": null,
   "metadata": {},
   "outputs": [],
   "source": []
  },
  {
   "cell_type": "code",
   "execution_count": null,
   "metadata": {},
   "outputs": [],
   "source": []
  },
  {
   "cell_type": "code",
   "execution_count": null,
   "metadata": {},
   "outputs": [],
   "source": []
  },
  {
   "cell_type": "code",
   "execution_count": null,
   "metadata": {},
   "outputs": [],
   "source": []
  },
  {
   "cell_type": "code",
   "execution_count": null,
   "metadata": {},
   "outputs": [],
   "source": []
  },
  {
   "cell_type": "code",
   "execution_count": null,
   "metadata": {},
   "outputs": [],
   "source": []
  },
  {
   "cell_type": "code",
   "execution_count": null,
   "metadata": {},
   "outputs": [],
   "source": []
  },
  {
   "cell_type": "code",
   "execution_count": null,
   "metadata": {},
   "outputs": [],
   "source": []
  },
  {
   "cell_type": "code",
   "execution_count": null,
   "metadata": {},
   "outputs": [],
   "source": []
  },
  {
   "cell_type": "code",
   "execution_count": null,
   "metadata": {},
   "outputs": [],
   "source": []
  },
  {
   "cell_type": "code",
   "execution_count": null,
   "metadata": {},
   "outputs": [],
   "source": []
  },
  {
   "cell_type": "code",
   "execution_count": null,
   "metadata": {},
   "outputs": [],
   "source": []
  }
 ],
 "metadata": {
  "kernelspec": {
   "display_name": "myenv",
   "language": "python",
   "name": "python3"
  },
  "language_info": {
   "codemirror_mode": {
    "name": "ipython",
    "version": 3
   },
   "file_extension": ".py",
   "mimetype": "text/x-python",
   "name": "python",
   "nbconvert_exporter": "python",
   "pygments_lexer": "ipython3",
   "version": "3.12.3"
  }
 },
 "nbformat": 4,
 "nbformat_minor": 2
}
